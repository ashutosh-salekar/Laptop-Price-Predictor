{
 "cells": [
  {
   "cell_type": "markdown",
   "id": "cb45d136",
   "metadata": {},
   "source": [
    "## Task: Predict the price of the laptop"
   ]
  },
  {
   "cell_type": "code",
   "execution_count": 1,
   "id": "9db68078",
   "metadata": {},
   "outputs": [],
   "source": [
    "import pandas as pd\n",
    "import numpy as np\n",
    "import matplotlib.pyplot as plt\n",
    "import seaborn as sns\n",
    "import re\n",
    "import pickle"
   ]
  },
  {
   "cell_type": "code",
   "execution_count": 2,
   "id": "c44c9248",
   "metadata": {},
   "outputs": [
    {
     "data": {
      "text/html": [
       "<div>\n",
       "<style scoped>\n",
       "    .dataframe tbody tr th:only-of-type {\n",
       "        vertical-align: middle;\n",
       "    }\n",
       "\n",
       "    .dataframe tbody tr th {\n",
       "        vertical-align: top;\n",
       "    }\n",
       "\n",
       "    .dataframe thead th {\n",
       "        text-align: right;\n",
       "    }\n",
       "</style>\n",
       "<table border=\"1\" class=\"dataframe\">\n",
       "  <thead>\n",
       "    <tr style=\"text-align: right;\">\n",
       "      <th></th>\n",
       "      <th>id</th>\n",
       "      <th>Company</th>\n",
       "      <th>TypeName</th>\n",
       "      <th>Inches</th>\n",
       "      <th>ScreenResolution</th>\n",
       "      <th>Cpu</th>\n",
       "      <th>Ram</th>\n",
       "      <th>Memory</th>\n",
       "      <th>Gpu</th>\n",
       "      <th>OpSys</th>\n",
       "      <th>Weight</th>\n",
       "      <th>Price</th>\n",
       "    </tr>\n",
       "  </thead>\n",
       "  <tbody>\n",
       "    <tr>\n",
       "      <th>634</th>\n",
       "      <td>634</td>\n",
       "      <td>Asus</td>\n",
       "      <td>Notebook</td>\n",
       "      <td>15.6</td>\n",
       "      <td>1366x768</td>\n",
       "      <td>Intel Celeron Dual Core N3350 1.1GHz</td>\n",
       "      <td>8GB</td>\n",
       "      <td>1TB HDD</td>\n",
       "      <td>Intel HD Graphics 500</td>\n",
       "      <td>Windows 10</td>\n",
       "      <td>2kg</td>\n",
       "      <td>21258.72</td>\n",
       "    </tr>\n",
       "    <tr>\n",
       "      <th>1002</th>\n",
       "      <td>1002</td>\n",
       "      <td>Dell</td>\n",
       "      <td>Notebook</td>\n",
       "      <td>15.6</td>\n",
       "      <td>1366x768</td>\n",
       "      <td>Intel Core i3 7100U 2.4GHz</td>\n",
       "      <td>4GB</td>\n",
       "      <td>128GB SSD</td>\n",
       "      <td>Intel HD Graphics 620</td>\n",
       "      <td>Windows 10</td>\n",
       "      <td>2.18kg</td>\n",
       "      <td>29144.16</td>\n",
       "    </tr>\n",
       "    <tr>\n",
       "      <th>648</th>\n",
       "      <td>648</td>\n",
       "      <td>Toshiba</td>\n",
       "      <td>Notebook</td>\n",
       "      <td>13.3</td>\n",
       "      <td>Full HD 1920x1080</td>\n",
       "      <td>Intel Core i5 6200U 2.3GHz</td>\n",
       "      <td>8GB</td>\n",
       "      <td>256GB SSD</td>\n",
       "      <td>Intel HD Graphics 520</td>\n",
       "      <td>Windows 10</td>\n",
       "      <td>1.2kg</td>\n",
       "      <td>64628.64</td>\n",
       "    </tr>\n",
       "    <tr>\n",
       "      <th>947</th>\n",
       "      <td>947</td>\n",
       "      <td>Lenovo</td>\n",
       "      <td>Notebook</td>\n",
       "      <td>15.6</td>\n",
       "      <td>Full HD 1920x1080</td>\n",
       "      <td>Intel Core i7 7500U 2.7GHz</td>\n",
       "      <td>8GB</td>\n",
       "      <td>1TB HDD</td>\n",
       "      <td>Nvidia GeForce 920MX</td>\n",
       "      <td>No OS</td>\n",
       "      <td>2.2kg</td>\n",
       "      <td>36496.80</td>\n",
       "    </tr>\n",
       "    <tr>\n",
       "      <th>131</th>\n",
       "      <td>131</td>\n",
       "      <td>Dell</td>\n",
       "      <td>Notebook</td>\n",
       "      <td>15.6</td>\n",
       "      <td>Full HD 1920x1080</td>\n",
       "      <td>Intel Core i3 6006U 2GHz</td>\n",
       "      <td>4GB</td>\n",
       "      <td>1TB HDD</td>\n",
       "      <td>AMD Radeon R5 M430</td>\n",
       "      <td>Windows 10</td>\n",
       "      <td>2.2kg</td>\n",
       "      <td>23922.72</td>\n",
       "    </tr>\n",
       "  </tbody>\n",
       "</table>\n",
       "</div>"
      ],
      "text/plain": [
       "        id  Company  TypeName  Inches   ScreenResolution  \\\n",
       "634    634     Asus  Notebook    15.6           1366x768   \n",
       "1002  1002     Dell  Notebook    15.6           1366x768   \n",
       "648    648  Toshiba  Notebook    13.3  Full HD 1920x1080   \n",
       "947    947   Lenovo  Notebook    15.6  Full HD 1920x1080   \n",
       "131    131     Dell  Notebook    15.6  Full HD 1920x1080   \n",
       "\n",
       "                                       Cpu  Ram     Memory  \\\n",
       "634   Intel Celeron Dual Core N3350 1.1GHz  8GB    1TB HDD   \n",
       "1002            Intel Core i3 7100U 2.4GHz  4GB  128GB SSD   \n",
       "648             Intel Core i5 6200U 2.3GHz  8GB  256GB SSD   \n",
       "947             Intel Core i7 7500U 2.7GHz  8GB    1TB HDD   \n",
       "131               Intel Core i3 6006U 2GHz  4GB    1TB HDD   \n",
       "\n",
       "                        Gpu       OpSys  Weight     Price  \n",
       "634   Intel HD Graphics 500  Windows 10     2kg  21258.72  \n",
       "1002  Intel HD Graphics 620  Windows 10  2.18kg  29144.16  \n",
       "648   Intel HD Graphics 520  Windows 10   1.2kg  64628.64  \n",
       "947    Nvidia GeForce 920MX       No OS   2.2kg  36496.80  \n",
       "131      AMD Radeon R5 M430  Windows 10   2.2kg  23922.72  "
      ]
     },
     "execution_count": 2,
     "metadata": {},
     "output_type": "execute_result"
    }
   ],
   "source": [
    "Laptop_data = pd.read_csv('Laptop_Price.csv')\n",
    "Laptop_data.sample(5)"
   ]
  },
  {
   "cell_type": "markdown",
   "id": "20f06ec2",
   "metadata": {},
   "source": [
    "## EDA"
   ]
  },
  {
   "cell_type": "code",
   "execution_count": 3,
   "id": "47cbfbe8",
   "metadata": {},
   "outputs": [
    {
     "data": {
      "text/plain": [
       "(1303, 12)"
      ]
     },
     "execution_count": 3,
     "metadata": {},
     "output_type": "execute_result"
    }
   ],
   "source": [
    "Laptop_data.shape"
   ]
  },
  {
   "cell_type": "code",
   "execution_count": 4,
   "id": "ef7a53e3",
   "metadata": {},
   "outputs": [
    {
     "data": {
      "text/plain": [
       "id                    int64\n",
       "Company              object\n",
       "TypeName             object\n",
       "Inches              float64\n",
       "ScreenResolution     object\n",
       "Cpu                  object\n",
       "Ram                  object\n",
       "Memory               object\n",
       "Gpu                  object\n",
       "OpSys                object\n",
       "Weight               object\n",
       "Price               float64\n",
       "dtype: object"
      ]
     },
     "execution_count": 4,
     "metadata": {},
     "output_type": "execute_result"
    }
   ],
   "source": [
    "Laptop_data.dtypes"
   ]
  },
  {
   "cell_type": "code",
   "execution_count": 5,
   "id": "03f7a6d3",
   "metadata": {},
   "outputs": [
    {
     "data": {
      "text/plain": [
       "id                  0\n",
       "Company             0\n",
       "TypeName            0\n",
       "Inches              0\n",
       "ScreenResolution    0\n",
       "Cpu                 0\n",
       "Ram                 0\n",
       "Memory              0\n",
       "Gpu                 0\n",
       "OpSys               0\n",
       "Weight              0\n",
       "Price               0\n",
       "dtype: int64"
      ]
     },
     "execution_count": 5,
     "metadata": {},
     "output_type": "execute_result"
    }
   ],
   "source": [
    "Laptop_data.isnull().sum()"
   ]
  },
  {
   "cell_type": "code",
   "execution_count": 6,
   "id": "281ef976",
   "metadata": {},
   "outputs": [
    {
     "data": {
      "text/html": [
       "<div>\n",
       "<style scoped>\n",
       "    .dataframe tbody tr th:only-of-type {\n",
       "        vertical-align: middle;\n",
       "    }\n",
       "\n",
       "    .dataframe tbody tr th {\n",
       "        vertical-align: top;\n",
       "    }\n",
       "\n",
       "    .dataframe thead th {\n",
       "        text-align: right;\n",
       "    }\n",
       "</style>\n",
       "<table border=\"1\" class=\"dataframe\">\n",
       "  <thead>\n",
       "    <tr style=\"text-align: right;\">\n",
       "      <th></th>\n",
       "      <th>id</th>\n",
       "      <th>Inches</th>\n",
       "      <th>Price</th>\n",
       "    </tr>\n",
       "  </thead>\n",
       "  <tbody>\n",
       "    <tr>\n",
       "      <th>count</th>\n",
       "      <td>1303.00000</td>\n",
       "      <td>1303.000000</td>\n",
       "      <td>1303.000000</td>\n",
       "    </tr>\n",
       "    <tr>\n",
       "      <th>mean</th>\n",
       "      <td>651.00000</td>\n",
       "      <td>15.017191</td>\n",
       "      <td>59870.042910</td>\n",
       "    </tr>\n",
       "    <tr>\n",
       "      <th>std</th>\n",
       "      <td>376.28801</td>\n",
       "      <td>1.426304</td>\n",
       "      <td>37243.201786</td>\n",
       "    </tr>\n",
       "    <tr>\n",
       "      <th>min</th>\n",
       "      <td>0.00000</td>\n",
       "      <td>10.100000</td>\n",
       "      <td>9270.720000</td>\n",
       "    </tr>\n",
       "    <tr>\n",
       "      <th>25%</th>\n",
       "      <td>325.50000</td>\n",
       "      <td>14.000000</td>\n",
       "      <td>31914.720000</td>\n",
       "    </tr>\n",
       "    <tr>\n",
       "      <th>50%</th>\n",
       "      <td>651.00000</td>\n",
       "      <td>15.600000</td>\n",
       "      <td>52054.560000</td>\n",
       "    </tr>\n",
       "    <tr>\n",
       "      <th>75%</th>\n",
       "      <td>976.50000</td>\n",
       "      <td>15.600000</td>\n",
       "      <td>79274.246400</td>\n",
       "    </tr>\n",
       "    <tr>\n",
       "      <th>max</th>\n",
       "      <td>1302.00000</td>\n",
       "      <td>18.400000</td>\n",
       "      <td>324954.720000</td>\n",
       "    </tr>\n",
       "  </tbody>\n",
       "</table>\n",
       "</div>"
      ],
      "text/plain": [
       "               id       Inches          Price\n",
       "count  1303.00000  1303.000000    1303.000000\n",
       "mean    651.00000    15.017191   59870.042910\n",
       "std     376.28801     1.426304   37243.201786\n",
       "min       0.00000    10.100000    9270.720000\n",
       "25%     325.50000    14.000000   31914.720000\n",
       "50%     651.00000    15.600000   52054.560000\n",
       "75%     976.50000    15.600000   79274.246400\n",
       "max    1302.00000    18.400000  324954.720000"
      ]
     },
     "execution_count": 6,
     "metadata": {},
     "output_type": "execute_result"
    }
   ],
   "source": [
    "Laptop_data.describe()"
   ]
  },
  {
   "cell_type": "code",
   "execution_count": 7,
   "id": "09d41143",
   "metadata": {},
   "outputs": [
    {
     "data": {
      "text/plain": [
       "0"
      ]
     },
     "execution_count": 7,
     "metadata": {},
     "output_type": "execute_result"
    }
   ],
   "source": [
    "Laptop_data.duplicated().sum()"
   ]
  },
  {
   "cell_type": "code",
   "execution_count": 8,
   "id": "7167c61e",
   "metadata": {},
   "outputs": [
    {
     "data": {
      "text/plain": [
       "id        0.067984\n",
       "Inches    0.068197\n",
       "Price     1.000000\n",
       "Name: Price, dtype: float64"
      ]
     },
     "execution_count": 8,
     "metadata": {},
     "output_type": "execute_result"
    }
   ],
   "source": [
    "Laptop_data.corr()['Price']"
   ]
  },
  {
   "cell_type": "code",
   "execution_count": 9,
   "id": "4bb211eb",
   "metadata": {},
   "outputs": [],
   "source": [
    "Categorical_features = ['Company', 'TypeName', 'ScreenResolution', 'Cpu', 'Ram', 'Memory', 'Gpu', 'OpSys']\n",
    "Numerical_features = ['Inches', 'Weight', 'Price']"
   ]
  },
  {
   "cell_type": "markdown",
   "id": "349844b2",
   "metadata": {},
   "source": [
    "### Univariate analysis"
   ]
  },
  {
   "cell_type": "code",
   "execution_count": 10,
   "id": "a22a83fc",
   "metadata": {
    "scrolled": false
   },
   "outputs": [
    {
     "data": {
      "image/png": "[encoded data removed]",
      "text/plain": [
       "<Figure size 720x504 with 1 Axes>"
      ]
     },
     "metadata": {
      "needs_background": "light"
     },
     "output_type": "display_data"
    },
    {
     "data": {
      "image/png": "[encoded data removed]",
      "text/plain": [
       "<Figure size 720x504 with 1 Axes>"
      ]
     },
     "metadata": {
      "needs_background": "light"
     },
     "output_type": "display_data"
    },
    {
     "data": {
      "image/png": "[encoded data removed]",
      "text/plain": [
       "<Figure size 720x504 with 1 Axes>"
      ]
     },
     "metadata": {
      "needs_background": "light"
     },
     "output_type": "display_data"
    },
    {
     "data": {
      "image/png": "[encoded data removed]",
      "text/plain": [
       "<Figure size 720x504 with 1 Axes>"
      ]
     },
     "metadata": {
      "needs_background": "light"
     },
     "output_type": "display_data"
    },
    {
     "data": {
      "image/png": "[encoded data removed]",
      "text/plain": [
       "<Figure size 720x504 with 1 Axes>"
      ]
     },
     "metadata": {
      "needs_background": "light"
     },
     "output_type": "display_data"
    },
    {
     "data": {
      "image/png": "[encoded data removed]",
      "text/plain": [
       "<Figure size 720x504 with 1 Axes>"
      ]
     },
     "metadata": {
      "needs_background": "light"
     },
     "output_type": "display_data"
    },
    {
     "data": {
      "image/png": "[encoded data removed]",
      "text/plain": [
       "<Figure size 720x504 with 1 Axes>"
      ]
     },
     "metadata": {
      "needs_background": "light"
     },
     "output_type": "display_data"
    },
    {
     "data": {
      "image/png": "[encoded data removed]",
      "text/plain": [
       "<Figure size 720x504 with 1 Axes>"
      ]
     },
     "metadata": {
      "needs_background": "light"
     },
     "output_type": "display_data"
    }
   ],
   "source": [
    "for feat in Categorical_features:\n",
    "    plt.figure(figsize=(10,7))\n",
    "    plt.xticks(rotation=90)\n",
    "    sns.countplot(data=Laptop_data, x=feat, order=Laptop_data[feat].value_counts().index)"
   ]
  },
  {
   "cell_type": "code",
   "execution_count": 11,
   "id": "399f7536",
   "metadata": {
    "scrolled": true
   },
   "outputs": [
    {
     "data": {
      "text/plain": [
       "(array([  4.,  34.,  50., 166., 210.,   4., 669.,   0., 165.,   1.]),\n",
       " array([10.1 , 10.93, 11.76, 12.59, 13.42, 14.25, 15.08, 15.91, 16.74,\n",
       "        17.57, 18.4 ]),\n",
       " <BarContainer object of 10 artists>)"
      ]
     },
     "execution_count": 11,
     "metadata": {},
     "output_type": "execute_result"
    },
    {
     "data": {
      "image/png": "[encoded data removed]",
      "text/plain": [
       "<Figure size 432x288 with 1 Axes>"
      ]
     },
     "metadata": {
      "needs_background": "light"
     },
     "output_type": "display_data"
    }
   ],
   "source": [
    "plt.hist(data=Laptop_data, x='Inches')"
   ]
  },
  {
   "cell_type": "code",
   "execution_count": 12,
   "id": "f0528ab4",
   "metadata": {},
   "outputs": [
    {
     "data": {
      "text/plain": [
       "<AxesSubplot:xlabel='Inches'>"
      ]
     },
     "execution_count": 12,
     "metadata": {},
     "output_type": "execute_result"
    },
    {
     "data": {
      "image/png": "[encoded data removed]",
      "text/plain": [
       "<Figure size 432x288 with 1 Axes>"
      ]
     },
     "metadata": {
      "needs_background": "light"
     },
     "output_type": "display_data"
    }
   ],
   "source": [
    "sns.boxplot(data=Laptop_data, x='Inches')"
   ]
  },
  {
   "cell_type": "code",
   "execution_count": 13,
   "id": "d603b01b",
   "metadata": {},
   "outputs": [
    {
     "data": {
      "text/plain": [
       "(array([474., 448., 231.,  98.,  37.,   8.,   3.,   2.,   1.,   1.]),\n",
       " array([  9270.72,  40839.12,  72407.52, 103975.92, 135544.32, 167112.72,\n",
       "        198681.12, 230249.52, 261817.92, 293386.32, 324954.72]),\n",
       " <BarContainer object of 10 artists>)"
      ]
     },
     "execution_count": 13,
     "metadata": {},
     "output_type": "execute_result"
    },
    {
     "data": {
      "image/png": "[encoded data removed]",
      "text/plain": [
       "<Figure size 432x288 with 1 Axes>"
      ]
     },
     "metadata": {
      "needs_background": "light"
     },
     "output_type": "display_data"
    }
   ],
   "source": [
    "plt.hist(data=Laptop_data, x='Price')"
   ]
  },
  {
   "cell_type": "code",
   "execution_count": 14,
   "id": "22f35e8b",
   "metadata": {},
   "outputs": [
    {
     "data": {
      "text/plain": [
       "<AxesSubplot:xlabel='Price'>"
      ]
     },
     "execution_count": 14,
     "metadata": {},
     "output_type": "execute_result"
    },
    {
     "data": {
      "image/png": "[encoded data removed]",
      "text/plain": [
       "<Figure size 432x288 with 1 Axes>"
      ]
     },
     "metadata": {
      "needs_background": "light"
     },
     "output_type": "display_data"
    }
   ],
   "source": [
    "sns.boxplot(data=Laptop_data, x='Price')"
   ]
  },
  {
   "cell_type": "markdown",
   "id": "71520c71",
   "metadata": {},
   "source": [
    "### Multivariate analysis"
   ]
  },
  {
   "cell_type": "code",
   "execution_count": 15,
   "id": "64604785",
   "metadata": {},
   "outputs": [
    {
     "data": {
      "text/plain": [
       "<AxesSubplot:xlabel='Company', ylabel='Price'>"
      ]
     },
     "execution_count": 15,
     "metadata": {},
     "output_type": "execute_result"
    },
    {
     "data": {
      "image/png": "[encoded data removed]",
      "text/plain": [
       "<Figure size 720x504 with 1 Axes>"
      ]
     },
     "metadata": {
      "needs_background": "light"
     },
     "output_type": "display_data"
    }
   ],
   "source": [
    "plt.figure(figsize=(10,7))\n",
    "plt.xticks(rotation=90)\n",
    "sns.barplot(data=Laptop_data, x='Company', y='Price')"
   ]
  },
  {
   "cell_type": "code",
   "execution_count": 16,
   "id": "707d34ae",
   "metadata": {},
   "outputs": [
    {
     "data": {
      "text/plain": [
       "<AxesSubplot:xlabel='TypeName', ylabel='Price'>"
      ]
     },
     "execution_count": 16,
     "metadata": {},
     "output_type": "execute_result"
    },
    {
     "data": {
      "image/png": "[encoded data removed]",
      "text/plain": [
       "<Figure size 720x504 with 1 Axes>"
      ]
     },
     "metadata": {
      "needs_background": "light"
     },
     "output_type": "display_data"
    }
   ],
   "source": [
    "plt.figure(figsize=(10,7))\n",
    "plt.xticks(rotation=90)\n",
    "sns.barplot(data=Laptop_data, x='TypeName', y='Price')"
   ]
  },
  {
   "cell_type": "code",
   "execution_count": 17,
   "id": "9b514c81",
   "metadata": {},
   "outputs": [
    {
     "data": {
      "text/plain": [
       "<AxesSubplot:xlabel='Ram', ylabel='Price'>"
      ]
     },
     "execution_count": 17,
     "metadata": {},
     "output_type": "execute_result"
    },
    {
     "data": {
      "image/png": "[encoded data removed]",
      "text/plain": [
       "<Figure size 720x504 with 1 Axes>"
      ]
     },
     "metadata": {
      "needs_background": "light"
     },
     "output_type": "display_data"
    }
   ],
   "source": [
    "plt.figure(figsize=(10,7))\n",
    "plt.xticks(rotation=90)\n",
    "sns.barplot(data=Laptop_data, x='Ram', y='Price')"
   ]
  },
  {
   "cell_type": "code",
   "execution_count": 18,
   "id": "00b1651c",
   "metadata": {},
   "outputs": [
    {
     "data": {
      "text/plain": [
       "<AxesSubplot:xlabel='OpSys', ylabel='Price'>"
      ]
     },
     "execution_count": 18,
     "metadata": {},
     "output_type": "execute_result"
    },
    {
     "data": {
      "image/png": "[encoded data removed]",
      "text/plain": [
       "<Figure size 720x504 with 1 Axes>"
      ]
     },
     "metadata": {
      "needs_background": "light"
     },
     "output_type": "display_data"
    }
   ],
   "source": [
    "plt.figure(figsize=(10,7))\n",
    "plt.xticks(rotation=90)\n",
    "sns.barplot(data=Laptop_data, x='OpSys', y='Price')"
   ]
  },
  {
   "cell_type": "markdown",
   "id": "e22268b4",
   "metadata": {},
   "source": [
    "### Automatic EDA"
   ]
  },
  {
   "cell_type": "code",
   "execution_count": 19,
   "id": "54a7f3ff",
   "metadata": {},
   "outputs": [],
   "source": [
    "import pandas as pd\n",
    "from pandas_profiling import ProfileReport"
   ]
  },
  {
   "cell_type": "code",
   "execution_count": 20,
   "id": "d9a3cfc1",
   "metadata": {},
   "outputs": [
    {
     "data": {
      "application/vnd.jupyter.widget-view+json": {
       "model_id": "a27746004e3443d79b24bbb8f37e8660",
       "version_major": 2,
       "version_minor": 0
      },
      "text/plain": [
       "Summarize dataset:   0%|          | 0/5 [00:00<?, ?it/s]"
      ]
     },
     "metadata": {},
     "output_type": "display_data"
    },
    {
     "data": {
      "application/vnd.jupyter.widget-view+json": {
       "model_id": "f9c611b70d0b43cfb984e5fb95655862",
       "version_major": 2,
       "version_minor": 0
      },
      "text/plain": [
       "Generate report structure:   0%|          | 0/1 [00:00<?, ?it/s]"
      ]
     },
     "metadata": {},
     "output_type": "display_data"
    },
    {
     "data": {
      "application/vnd.jupyter.widget-view+json": {
       "model_id": "02c16703598646749fa583e35fe2d276",
       "version_major": 2,
       "version_minor": 0
      },
      "text/plain": [
       "Render HTML:   0%|          | 0/1 [00:00<?, ?it/s]"
      ]
     },
     "metadata": {},
     "output_type": "display_data"
    },
    {
     "data": {
      "application/vnd.jupyter.widget-view+json": {
       "model_id": "dd3aff8ac166444e89eae1f16a13c2a7",
       "version_major": 2,
       "version_minor": 0
      },
      "text/plain": [
       "Export report to file:   0%|          | 0/1 [00:00<?, ?it/s]"
      ]
     },
     "metadata": {},
     "output_type": "display_data"
    }
   ],
   "source": [
    "profile = ProfileReport(Laptop_data, explorative=True)\n",
    "profile.to_file('Laptop_Automatic_EDA.html')"
   ]
  },
  {
   "cell_type": "markdown",
   "id": "f047be55",
   "metadata": {},
   "source": [
    "## Handling numerical data"
   ]
  },
  {
   "cell_type": "code",
   "execution_count": 21,
   "id": "6d101451",
   "metadata": {},
   "outputs": [],
   "source": [
    "# 'id' column is of no use, we can drop it.\n",
    "\n",
    "Laptop_data.drop(columns='id', axis=1, inplace=True)"
   ]
  },
  {
   "cell_type": "code",
   "execution_count": 22,
   "id": "e82fa367",
   "metadata": {
    "scrolled": true
   },
   "outputs": [
    {
     "data": {
      "text/plain": [
       "806     2.10\n",
       "1010    2.65\n",
       "1255    2.00\n",
       "541     1.60\n",
       "623     2.20\n",
       "Name: Weight, dtype: float32"
      ]
     },
     "execution_count": 22,
     "metadata": {},
     "output_type": "execute_result"
    }
   ],
   "source": [
    "# 'Weight' is numerical data with numerical + textual content. We have to just remove the 'kg' from each record.\n",
    "\n",
    "Laptop_data['Weight'] = Laptop_data['Weight'].str.strip('kg')\n",
    "Laptop_data['Weight'] = Laptop_data['Weight'].astype('float32')\n",
    "Laptop_data['Weight'].sample(5)"
   ]
  },
  {
   "cell_type": "markdown",
   "id": "265a0781",
   "metadata": {},
   "source": [
    "## Handling Categorical data\n",
    "### 'Company', 'TypeName', 'ScreenResolution', 'Cpu', 'Ram', 'Memory', 'Gpu', 'OpSys'"
   ]
  },
  {
   "cell_type": "markdown",
   "id": "73fd78ef",
   "metadata": {},
   "source": [
    "### Company"
   ]
  },
  {
   "cell_type": "code",
   "execution_count": 23,
   "id": "0c42992c",
   "metadata": {
    "scrolled": true
   },
   "outputs": [
    {
     "data": {
      "text/plain": [
       "Lenovo       297\n",
       "Dell         297\n",
       "HP           274\n",
       "Asus         158\n",
       "Acer         103\n",
       "MSI           54\n",
       "Toshiba       48\n",
       "Apple         21\n",
       "Samsung        9\n",
       "Razer          7\n",
       "Mediacom       7\n",
       "Microsoft      6\n",
       "Xiaomi         4\n",
       "Vero           4\n",
       "Chuwi          3\n",
       "Google         3\n",
       "Fujitsu        3\n",
       "LG             3\n",
       "Huawei         2\n",
       "Name: Company, dtype: int64"
      ]
     },
     "execution_count": 23,
     "metadata": {},
     "output_type": "execute_result"
    }
   ],
   "source": [
    "Company_count = Laptop_data['Company'].value_counts()\n",
    "Company_count"
   ]
  },
  {
   "cell_type": "code",
   "execution_count": 24,
   "id": "3f7ee280",
   "metadata": {},
   "outputs": [
    {
     "data": {
      "text/plain": [
       "Index(['Samsung', 'Razer', 'Mediacom', 'Microsoft', 'Xiaomi', 'Vero', 'Chuwi',\n",
       "       'Google', 'Fujitsu', 'LG', 'Huawei'],\n",
       "      dtype='object')"
      ]
     },
     "execution_count": 24,
     "metadata": {},
     "output_type": "execute_result"
    }
   ],
   "source": [
    "Other_companies = Company_count[Company_count<10].index\n",
    "Other_companies"
   ]
  },
  {
   "cell_type": "code",
   "execution_count": 25,
   "id": "94cbec3a",
   "metadata": {},
   "outputs": [
    {
     "data": {
      "text/plain": [
       "Dell       297\n",
       "Lenovo     297\n",
       "HP         274\n",
       "Asus       158\n",
       "Acer       103\n",
       "MSI         54\n",
       "Other       51\n",
       "Toshiba     48\n",
       "Apple       21\n",
       "Name: Company, dtype: int64"
      ]
     },
     "execution_count": 25,
     "metadata": {},
     "output_type": "execute_result"
    }
   ],
   "source": [
    "Laptop_data['Company'] = Laptop_data['Company'].replace(Other_companies, 'Other')\n",
    "Laptop_data['Company'].value_counts()"
   ]
  },
  {
   "cell_type": "markdown",
   "id": "56038762",
   "metadata": {},
   "source": [
    "### TypeName"
   ]
  },
  {
   "cell_type": "code",
   "execution_count": 26,
   "id": "cbb72e22",
   "metadata": {},
   "outputs": [
    {
     "data": {
      "text/plain": [
       "Notebook              727\n",
       "Gaming                205\n",
       "Ultrabook             196\n",
       "2 in 1 Convertible    121\n",
       "Workstation            29\n",
       "Netbook                25\n",
       "Name: TypeName, dtype: int64"
      ]
     },
     "execution_count": 26,
     "metadata": {},
     "output_type": "execute_result"
    }
   ],
   "source": [
    "Laptop_data['TypeName'].value_counts()"
   ]
  },
  {
   "cell_type": "markdown",
   "id": "63a26fb6",
   "metadata": {},
   "source": [
    "### ScreenResolution"
   ]
  },
  {
   "cell_type": "code",
   "execution_count": 27,
   "id": "26f0abfb",
   "metadata": {},
   "outputs": [
    {
     "data": {
      "text/plain": [
       "Full HD 1920x1080                                507\n",
       "1366x768                                         281\n",
       "IPS Panel Full HD 1920x1080                      230\n",
       "IPS Panel Full HD / Touchscreen 1920x1080         53\n",
       "Full HD / Touchscreen 1920x1080                   47\n",
       "1600x900                                          23\n",
       "Touchscreen 1366x768                              16\n",
       "Quad HD+ / Touchscreen 3200x1800                  15\n",
       "IPS Panel 4K Ultra HD 3840x2160                   12\n",
       "IPS Panel 4K Ultra HD / Touchscreen 3840x2160     11\n",
       "4K Ultra HD / Touchscreen 3840x2160               10\n",
       "IPS Panel 1366x768                                 7\n",
       "Touchscreen 2560x1440                              7\n",
       "4K Ultra HD 3840x2160                              7\n",
       "Touchscreen 2256x1504                              6\n",
       "IPS Panel Quad HD+ / Touchscreen 3200x1800         6\n",
       "IPS Panel Retina Display 2304x1440                 6\n",
       "IPS Panel Retina Display 2560x1600                 6\n",
       "IPS Panel Touchscreen 2560x1440                    5\n",
       "IPS Panel Retina Display 2880x1800                 4\n",
       "IPS Panel 2560x1440                                4\n",
       "IPS Panel Touchscreen 1920x1200                    4\n",
       "1440x900                                           4\n",
       "Touchscreen 2400x1600                              3\n",
       "1920x1080                                          3\n",
       "IPS Panel Touchscreen 1366x768                     3\n",
       "2560x1440                                          3\n",
       "Quad HD+ 3200x1800                                 3\n",
       "IPS Panel Quad HD+ 2560x1440                       3\n",
       "IPS Panel Full HD 2160x1440                        2\n",
       "IPS Panel Quad HD+ 3200x1800                       2\n",
       "IPS Panel Touchscreen / 4K Ultra HD 3840x2160      2\n",
       "IPS Panel Retina Display 2736x1824                 1\n",
       "IPS Panel Touchscreen 2400x1600                    1\n",
       "Touchscreen / 4K Ultra HD 3840x2160                1\n",
       "Touchscreen / Quad HD+ 3200x1800                   1\n",
       "IPS Panel Full HD 1920x1200                        1\n",
       "IPS Panel Full HD 2560x1440                        1\n",
       "IPS Panel Full HD 1366x768                         1\n",
       "Touchscreen / Full HD 1920x1080                    1\n",
       "Name: ScreenResolution, dtype: int64"
      ]
     },
     "execution_count": 27,
     "metadata": {},
     "output_type": "execute_result"
    }
   ],
   "source": [
    "Laptop_data['ScreenResolution'].value_counts()"
   ]
  },
  {
   "cell_type": "markdown",
   "id": "c677b396",
   "metadata": {},
   "source": [
    "The 'ScreenResolution' column contains lot of information regarding the screen of the laptop ie its <b>resolution</b>, <b>Panel type</b>, <b>touchscreen or not</b>.\n",
    "We create seperate column for each of this attribute of the screen. Attributes are as follows,\n",
    "1. Full HD\n",
    "2. IPS Panel\n",
    "3. Touchscreen\n",
    "4. Quad HD+\n",
    "5. 4K Ultra HD\n",
    "6. Retina Display"
   ]
  },
  {
   "cell_type": "code",
   "execution_count": 28,
   "id": "f1931400",
   "metadata": {},
   "outputs": [],
   "source": [
    "# 1. IPS Panel\n",
    "Laptop_data['IPS'] = Laptop_data['ScreenResolution'].apply(lambda x: 1 if 'IPS Panel' in x else 0)\n",
    "\n",
    "# 2. Touchscreen\n",
    "Laptop_data['Touchscreen'] = Laptop_data['ScreenResolution'].apply(lambda x: 1 if 'Touchscreen' in x else 0)\n",
    "\n",
    "# 3. Full HD\n",
    "Laptop_data['FHD'] = Laptop_data['ScreenResolution'].apply(lambda x: 1 if 'Full HD' in x else 0)\n",
    "\n",
    "# 4. Quad HD+\n",
    "Laptop_data['QHD'] = Laptop_data['ScreenResolution'].apply(lambda x: 1 if 'Quad HD+' in x else 0)\n",
    "\n",
    "# 5. 4K Ultra HD\n",
    "Laptop_data['4KUHD'] = Laptop_data['ScreenResolution'].apply(lambda x: 1 if '4K Ultra HD' in x else 0)\n",
    "\n",
    "# 6. Full HD\n",
    "Laptop_data['Retina Display'] = Laptop_data['ScreenResolution'].apply(lambda x: 1 if 'Retina Display' in x else 0)"
   ]
  },
  {
   "cell_type": "code",
   "execution_count": 29,
   "id": "a7fca85e",
   "metadata": {},
   "outputs": [
    {
     "data": {
      "text/html": [
       "<div>\n",
       "<style scoped>\n",
       "    .dataframe tbody tr th:only-of-type {\n",
       "        vertical-align: middle;\n",
       "    }\n",
       "\n",
       "    .dataframe tbody tr th {\n",
       "        vertical-align: top;\n",
       "    }\n",
       "\n",
       "    .dataframe thead th {\n",
       "        text-align: right;\n",
       "    }\n",
       "</style>\n",
       "<table border=\"1\" class=\"dataframe\">\n",
       "  <thead>\n",
       "    <tr style=\"text-align: right;\">\n",
       "      <th></th>\n",
       "      <th>ScreenResolution</th>\n",
       "      <th>FHD</th>\n",
       "      <th>IPS</th>\n",
       "      <th>Touchscreen</th>\n",
       "      <th>QHD</th>\n",
       "      <th>4KUHD</th>\n",
       "      <th>Retina Display</th>\n",
       "    </tr>\n",
       "  </thead>\n",
       "  <tbody>\n",
       "    <tr>\n",
       "      <th>890</th>\n",
       "      <td>Full HD 1920x1080</td>\n",
       "      <td>1</td>\n",
       "      <td>0</td>\n",
       "      <td>0</td>\n",
       "      <td>0</td>\n",
       "      <td>0</td>\n",
       "      <td>0</td>\n",
       "    </tr>\n",
       "    <tr>\n",
       "      <th>911</th>\n",
       "      <td>4K Ultra HD / Touchscreen 3840x2160</td>\n",
       "      <td>0</td>\n",
       "      <td>0</td>\n",
       "      <td>1</td>\n",
       "      <td>0</td>\n",
       "      <td>1</td>\n",
       "      <td>0</td>\n",
       "    </tr>\n",
       "    <tr>\n",
       "      <th>529</th>\n",
       "      <td>Full HD 1920x1080</td>\n",
       "      <td>1</td>\n",
       "      <td>0</td>\n",
       "      <td>0</td>\n",
       "      <td>0</td>\n",
       "      <td>0</td>\n",
       "      <td>0</td>\n",
       "    </tr>\n",
       "    <tr>\n",
       "      <th>924</th>\n",
       "      <td>IPS Panel Full HD / Touchscreen 1920x1080</td>\n",
       "      <td>1</td>\n",
       "      <td>1</td>\n",
       "      <td>1</td>\n",
       "      <td>0</td>\n",
       "      <td>0</td>\n",
       "      <td>0</td>\n",
       "    </tr>\n",
       "    <tr>\n",
       "      <th>1127</th>\n",
       "      <td>1366x768</td>\n",
       "      <td>0</td>\n",
       "      <td>0</td>\n",
       "      <td>0</td>\n",
       "      <td>0</td>\n",
       "      <td>0</td>\n",
       "      <td>0</td>\n",
       "    </tr>\n",
       "  </tbody>\n",
       "</table>\n",
       "</div>"
      ],
      "text/plain": [
       "                               ScreenResolution  FHD  IPS  Touchscreen  QHD  \\\n",
       "890                           Full HD 1920x1080    1    0            0    0   \n",
       "911         4K Ultra HD / Touchscreen 3840x2160    0    0            1    0   \n",
       "529                           Full HD 1920x1080    1    0            0    0   \n",
       "924   IPS Panel Full HD / Touchscreen 1920x1080    1    1            1    0   \n",
       "1127                                   1366x768    0    0            0    0   \n",
       "\n",
       "      4KUHD  Retina Display  \n",
       "890       0               0  \n",
       "911       1               0  \n",
       "529       0               0  \n",
       "924       0               0  \n",
       "1127      0               0  "
      ]
     },
     "execution_count": 29,
     "metadata": {},
     "output_type": "execute_result"
    }
   ],
   "source": [
    "Laptop_data[['ScreenResolution','FHD','IPS','Touchscreen','QHD','4KUHD','Retina Display']].sample(5)"
   ]
  },
  {
   "cell_type": "code",
   "execution_count": 30,
   "id": "55778814",
   "metadata": {},
   "outputs": [
    {
     "data": {
      "text/html": [
       "<div>\n",
       "<style scoped>\n",
       "    .dataframe tbody tr th:only-of-type {\n",
       "        vertical-align: middle;\n",
       "    }\n",
       "\n",
       "    .dataframe tbody tr th {\n",
       "        vertical-align: top;\n",
       "    }\n",
       "\n",
       "    .dataframe thead th {\n",
       "        text-align: right;\n",
       "    }\n",
       "</style>\n",
       "<table border=\"1\" class=\"dataframe\">\n",
       "  <thead>\n",
       "    <tr style=\"text-align: right;\">\n",
       "      <th></th>\n",
       "      <th>Company</th>\n",
       "      <th>TypeName</th>\n",
       "      <th>Inches</th>\n",
       "      <th>ScreenResolution</th>\n",
       "      <th>Cpu</th>\n",
       "      <th>Ram</th>\n",
       "      <th>Memory</th>\n",
       "      <th>Gpu</th>\n",
       "      <th>OpSys</th>\n",
       "      <th>Weight</th>\n",
       "      <th>Price</th>\n",
       "      <th>IPS</th>\n",
       "      <th>Touchscreen</th>\n",
       "      <th>FHD</th>\n",
       "      <th>QHD</th>\n",
       "      <th>4KUHD</th>\n",
       "      <th>Retina Display</th>\n",
       "    </tr>\n",
       "  </thead>\n",
       "  <tbody>\n",
       "    <tr>\n",
       "      <th>9</th>\n",
       "      <td>Acer</td>\n",
       "      <td>Ultrabook</td>\n",
       "      <td>14.0</td>\n",
       "      <td>IPS Panel Full HD 1920x1080</td>\n",
       "      <td>Intel Core i5 8250U 1.6GHz</td>\n",
       "      <td>8GB</td>\n",
       "      <td>256GB SSD</td>\n",
       "      <td>Intel UHD Graphics 620</td>\n",
       "      <td>Windows 10</td>\n",
       "      <td>1.60</td>\n",
       "      <td>41025.60</td>\n",
       "      <td>1</td>\n",
       "      <td>0</td>\n",
       "      <td>1</td>\n",
       "      <td>0</td>\n",
       "      <td>0</td>\n",
       "      <td>0</td>\n",
       "    </tr>\n",
       "    <tr>\n",
       "      <th>19</th>\n",
       "      <td>Dell</td>\n",
       "      <td>Ultrabook</td>\n",
       "      <td>13.3</td>\n",
       "      <td>IPS Panel Full HD / Touchscreen 1920x1080</td>\n",
       "      <td>Intel Core i5 8250U 1.6GHz</td>\n",
       "      <td>8GB</td>\n",
       "      <td>128GB SSD</td>\n",
       "      <td>Intel UHD Graphics 620</td>\n",
       "      <td>Windows 10</td>\n",
       "      <td>1.22</td>\n",
       "      <td>52161.12</td>\n",
       "      <td>1</td>\n",
       "      <td>1</td>\n",
       "      <td>1</td>\n",
       "      <td>0</td>\n",
       "      <td>0</td>\n",
       "      <td>0</td>\n",
       "    </tr>\n",
       "    <tr>\n",
       "      <th>21</th>\n",
       "      <td>Lenovo</td>\n",
       "      <td>Gaming</td>\n",
       "      <td>15.6</td>\n",
       "      <td>IPS Panel Full HD 1920x1080</td>\n",
       "      <td>Intel Core i5 7300HQ 2.5GHz</td>\n",
       "      <td>8GB</td>\n",
       "      <td>128GB SSD +  1TB HDD</td>\n",
       "      <td>Nvidia GeForce GTX 1050</td>\n",
       "      <td>Windows 10</td>\n",
       "      <td>2.50</td>\n",
       "      <td>53226.72</td>\n",
       "      <td>1</td>\n",
       "      <td>0</td>\n",
       "      <td>1</td>\n",
       "      <td>0</td>\n",
       "      <td>0</td>\n",
       "      <td>0</td>\n",
       "    </tr>\n",
       "    <tr>\n",
       "      <th>37</th>\n",
       "      <td>Dell</td>\n",
       "      <td>Notebook</td>\n",
       "      <td>17.3</td>\n",
       "      <td>IPS Panel Full HD 1920x1080</td>\n",
       "      <td>Intel Core i5 8250U 1.6GHz</td>\n",
       "      <td>8GB</td>\n",
       "      <td>128GB SSD +  1TB HDD</td>\n",
       "      <td>AMD Radeon 530</td>\n",
       "      <td>Windows 10</td>\n",
       "      <td>2.80</td>\n",
       "      <td>52161.12</td>\n",
       "      <td>1</td>\n",
       "      <td>0</td>\n",
       "      <td>1</td>\n",
       "      <td>0</td>\n",
       "      <td>0</td>\n",
       "      <td>0</td>\n",
       "    </tr>\n",
       "    <tr>\n",
       "      <th>41</th>\n",
       "      <td>Dell</td>\n",
       "      <td>Gaming</td>\n",
       "      <td>15.6</td>\n",
       "      <td>IPS Panel Full HD 1920x1080</td>\n",
       "      <td>Intel Core i7 7700HQ 2.8GHz</td>\n",
       "      <td>16GB</td>\n",
       "      <td>256GB SSD +  1TB HDD</td>\n",
       "      <td>Nvidia GeForce GTX 1060</td>\n",
       "      <td>Windows 10</td>\n",
       "      <td>2.65</td>\n",
       "      <td>79866.72</td>\n",
       "      <td>1</td>\n",
       "      <td>0</td>\n",
       "      <td>1</td>\n",
       "      <td>0</td>\n",
       "      <td>0</td>\n",
       "      <td>0</td>\n",
       "    </tr>\n",
       "    <tr>\n",
       "      <th>...</th>\n",
       "      <td>...</td>\n",
       "      <td>...</td>\n",
       "      <td>...</td>\n",
       "      <td>...</td>\n",
       "      <td>...</td>\n",
       "      <td>...</td>\n",
       "      <td>...</td>\n",
       "      <td>...</td>\n",
       "      <td>...</td>\n",
       "      <td>...</td>\n",
       "      <td>...</td>\n",
       "      <td>...</td>\n",
       "      <td>...</td>\n",
       "      <td>...</td>\n",
       "      <td>...</td>\n",
       "      <td>...</td>\n",
       "      <td>...</td>\n",
       "    </tr>\n",
       "    <tr>\n",
       "      <th>1279</th>\n",
       "      <td>Lenovo</td>\n",
       "      <td>Notebook</td>\n",
       "      <td>15.6</td>\n",
       "      <td>IPS Panel Full HD 1920x1080</td>\n",
       "      <td>Intel Core i7 6700HQ 2.6GHz</td>\n",
       "      <td>8GB</td>\n",
       "      <td>1TB HDD</td>\n",
       "      <td>Nvidia GeForce GTX 960M</td>\n",
       "      <td>Windows 10</td>\n",
       "      <td>2.60</td>\n",
       "      <td>47898.72</td>\n",
       "      <td>1</td>\n",
       "      <td>0</td>\n",
       "      <td>1</td>\n",
       "      <td>0</td>\n",
       "      <td>0</td>\n",
       "      <td>0</td>\n",
       "    </tr>\n",
       "    <tr>\n",
       "      <th>1284</th>\n",
       "      <td>Lenovo</td>\n",
       "      <td>2 in 1 Convertible</td>\n",
       "      <td>14.0</td>\n",
       "      <td>IPS Panel Full HD / Touchscreen 1920x1080</td>\n",
       "      <td>Intel Core i7 6500U 2.5GHz</td>\n",
       "      <td>4GB</td>\n",
       "      <td>128GB SSD</td>\n",
       "      <td>Intel HD Graphics 520</td>\n",
       "      <td>Windows 10</td>\n",
       "      <td>1.80</td>\n",
       "      <td>33992.64</td>\n",
       "      <td>1</td>\n",
       "      <td>1</td>\n",
       "      <td>1</td>\n",
       "      <td>0</td>\n",
       "      <td>0</td>\n",
       "      <td>0</td>\n",
       "    </tr>\n",
       "    <tr>\n",
       "      <th>1289</th>\n",
       "      <td>Asus</td>\n",
       "      <td>Ultrabook</td>\n",
       "      <td>13.3</td>\n",
       "      <td>IPS Panel Full HD 1920x1080</td>\n",
       "      <td>Intel Core M 6Y30 0.9GHz</td>\n",
       "      <td>8GB</td>\n",
       "      <td>512GB SSD</td>\n",
       "      <td>Intel HD Graphics 515</td>\n",
       "      <td>Windows 10</td>\n",
       "      <td>1.20</td>\n",
       "      <td>38841.12</td>\n",
       "      <td>1</td>\n",
       "      <td>0</td>\n",
       "      <td>1</td>\n",
       "      <td>0</td>\n",
       "      <td>0</td>\n",
       "      <td>0</td>\n",
       "    </tr>\n",
       "    <tr>\n",
       "      <th>1293</th>\n",
       "      <td>Lenovo</td>\n",
       "      <td>Notebook</td>\n",
       "      <td>15.6</td>\n",
       "      <td>IPS Panel Full HD 1920x1080</td>\n",
       "      <td>Intel Core i7 6700HQ 2.6GHz</td>\n",
       "      <td>8GB</td>\n",
       "      <td>1TB HDD</td>\n",
       "      <td>Nvidia GeForce GTX 960M</td>\n",
       "      <td>Windows 10</td>\n",
       "      <td>2.60</td>\n",
       "      <td>47898.72</td>\n",
       "      <td>1</td>\n",
       "      <td>0</td>\n",
       "      <td>1</td>\n",
       "      <td>0</td>\n",
       "      <td>0</td>\n",
       "      <td>0</td>\n",
       "    </tr>\n",
       "    <tr>\n",
       "      <th>1298</th>\n",
       "      <td>Lenovo</td>\n",
       "      <td>2 in 1 Convertible</td>\n",
       "      <td>14.0</td>\n",
       "      <td>IPS Panel Full HD / Touchscreen 1920x1080</td>\n",
       "      <td>Intel Core i7 6500U 2.5GHz</td>\n",
       "      <td>4GB</td>\n",
       "      <td>128GB SSD</td>\n",
       "      <td>Intel HD Graphics 520</td>\n",
       "      <td>Windows 10</td>\n",
       "      <td>1.80</td>\n",
       "      <td>33992.64</td>\n",
       "      <td>1</td>\n",
       "      <td>1</td>\n",
       "      <td>1</td>\n",
       "      <td>0</td>\n",
       "      <td>0</td>\n",
       "      <td>0</td>\n",
       "    </tr>\n",
       "  </tbody>\n",
       "</table>\n",
       "<p>288 rows × 17 columns</p>\n",
       "</div>"
      ],
      "text/plain": [
       "     Company            TypeName  Inches  \\\n",
       "9       Acer           Ultrabook    14.0   \n",
       "19      Dell           Ultrabook    13.3   \n",
       "21    Lenovo              Gaming    15.6   \n",
       "37      Dell            Notebook    17.3   \n",
       "41      Dell              Gaming    15.6   \n",
       "...      ...                 ...     ...   \n",
       "1279  Lenovo            Notebook    15.6   \n",
       "1284  Lenovo  2 in 1 Convertible    14.0   \n",
       "1289    Asus           Ultrabook    13.3   \n",
       "1293  Lenovo            Notebook    15.6   \n",
       "1298  Lenovo  2 in 1 Convertible    14.0   \n",
       "\n",
       "                               ScreenResolution                          Cpu  \\\n",
       "9                   IPS Panel Full HD 1920x1080   Intel Core i5 8250U 1.6GHz   \n",
       "19    IPS Panel Full HD / Touchscreen 1920x1080   Intel Core i5 8250U 1.6GHz   \n",
       "21                  IPS Panel Full HD 1920x1080  Intel Core i5 7300HQ 2.5GHz   \n",
       "37                  IPS Panel Full HD 1920x1080   Intel Core i5 8250U 1.6GHz   \n",
       "41                  IPS Panel Full HD 1920x1080  Intel Core i7 7700HQ 2.8GHz   \n",
       "...                                         ...                          ...   \n",
       "1279                IPS Panel Full HD 1920x1080  Intel Core i7 6700HQ 2.6GHz   \n",
       "1284  IPS Panel Full HD / Touchscreen 1920x1080   Intel Core i7 6500U 2.5GHz   \n",
       "1289                IPS Panel Full HD 1920x1080     Intel Core M 6Y30 0.9GHz   \n",
       "1293                IPS Panel Full HD 1920x1080  Intel Core i7 6700HQ 2.6GHz   \n",
       "1298  IPS Panel Full HD / Touchscreen 1920x1080   Intel Core i7 6500U 2.5GHz   \n",
       "\n",
       "       Ram                Memory                      Gpu       OpSys  Weight  \\\n",
       "9      8GB             256GB SSD   Intel UHD Graphics 620  Windows 10    1.60   \n",
       "19     8GB             128GB SSD   Intel UHD Graphics 620  Windows 10    1.22   \n",
       "21     8GB  128GB SSD +  1TB HDD  Nvidia GeForce GTX 1050  Windows 10    2.50   \n",
       "37     8GB  128GB SSD +  1TB HDD           AMD Radeon 530  Windows 10    2.80   \n",
       "41    16GB  256GB SSD +  1TB HDD  Nvidia GeForce GTX 1060  Windows 10    2.65   \n",
       "...    ...                   ...                      ...         ...     ...   \n",
       "1279   8GB               1TB HDD  Nvidia GeForce GTX 960M  Windows 10    2.60   \n",
       "1284   4GB             128GB SSD    Intel HD Graphics 520  Windows 10    1.80   \n",
       "1289   8GB             512GB SSD    Intel HD Graphics 515  Windows 10    1.20   \n",
       "1293   8GB               1TB HDD  Nvidia GeForce GTX 960M  Windows 10    2.60   \n",
       "1298   4GB             128GB SSD    Intel HD Graphics 520  Windows 10    1.80   \n",
       "\n",
       "         Price  IPS  Touchscreen  FHD  QHD  4KUHD  Retina Display  \n",
       "9     41025.60    1            0    1    0      0               0  \n",
       "19    52161.12    1            1    1    0      0               0  \n",
       "21    53226.72    1            0    1    0      0               0  \n",
       "37    52161.12    1            0    1    0      0               0  \n",
       "41    79866.72    1            0    1    0      0               0  \n",
       "...        ...  ...          ...  ...  ...    ...             ...  \n",
       "1279  47898.72    1            0    1    0      0               0  \n",
       "1284  33992.64    1            1    1    0      0               0  \n",
       "1289  38841.12    1            0    1    0      0               0  \n",
       "1293  47898.72    1            0    1    0      0               0  \n",
       "1298  33992.64    1            1    1    0      0               0  \n",
       "\n",
       "[288 rows x 17 columns]"
      ]
     },
     "execution_count": 30,
     "metadata": {},
     "output_type": "execute_result"
    }
   ],
   "source": [
    "Laptop_data[(Laptop_data['IPS'] == 1) & (Laptop_data['FHD'] == 1)]"
   ]
  },
  {
   "cell_type": "markdown",
   "id": "ace847c6",
   "metadata": {},
   "source": [
    "#### We will create a new columns which contains the just resolution terms."
   ]
  },
  {
   "cell_type": "code",
   "execution_count": 31,
   "id": "1bcb0c89",
   "metadata": {},
   "outputs": [],
   "source": [
    "def extract_resolution(x):\n",
    "    a = re.findall(r'\\d+x\\d+',x)[0]\n",
    "#     b = a.split('x')\n",
    "#     return pd.Series([a, int(b[0]), int(b[1])])\n",
    "    return a"
   ]
  },
  {
   "cell_type": "code",
   "execution_count": 32,
   "id": "d3f818fa",
   "metadata": {},
   "outputs": [],
   "source": [
    "# Laptop_data[['Just_Res', 'X_Resolution', 'Y_Resolution']] = Laptop_data['ScreenResolution'].apply(extract_resolution)\n",
    "Laptop_data['Resolution'] = Laptop_data['ScreenResolution'].apply(extract_resolution)"
   ]
  },
  {
   "cell_type": "code",
   "execution_count": 33,
   "id": "544b983d",
   "metadata": {},
   "outputs": [
    {
     "data": {
      "text/html": [
       "<div>\n",
       "<style scoped>\n",
       "    .dataframe tbody tr th:only-of-type {\n",
       "        vertical-align: middle;\n",
       "    }\n",
       "\n",
       "    .dataframe tbody tr th {\n",
       "        vertical-align: top;\n",
       "    }\n",
       "\n",
       "    .dataframe thead th {\n",
       "        text-align: right;\n",
       "    }\n",
       "</style>\n",
       "<table border=\"1\" class=\"dataframe\">\n",
       "  <thead>\n",
       "    <tr style=\"text-align: right;\">\n",
       "      <th></th>\n",
       "      <th>ScreenResolution</th>\n",
       "      <th>Resolution</th>\n",
       "    </tr>\n",
       "  </thead>\n",
       "  <tbody>\n",
       "    <tr>\n",
       "      <th>74</th>\n",
       "      <td>1366x768</td>\n",
       "      <td>1366x768</td>\n",
       "    </tr>\n",
       "    <tr>\n",
       "      <th>1119</th>\n",
       "      <td>Full HD 1920x1080</td>\n",
       "      <td>1920x1080</td>\n",
       "    </tr>\n",
       "    <tr>\n",
       "      <th>1059</th>\n",
       "      <td>Full HD 1920x1080</td>\n",
       "      <td>1920x1080</td>\n",
       "    </tr>\n",
       "    <tr>\n",
       "      <th>1031</th>\n",
       "      <td>1366x768</td>\n",
       "      <td>1366x768</td>\n",
       "    </tr>\n",
       "    <tr>\n",
       "      <th>1246</th>\n",
       "      <td>1366x768</td>\n",
       "      <td>1366x768</td>\n",
       "    </tr>\n",
       "    <tr>\n",
       "      <th>207</th>\n",
       "      <td>IPS Panel 4K Ultra HD / Touchscreen 3840x2160</td>\n",
       "      <td>3840x2160</td>\n",
       "    </tr>\n",
       "    <tr>\n",
       "      <th>579</th>\n",
       "      <td>Full HD 1920x1080</td>\n",
       "      <td>1920x1080</td>\n",
       "    </tr>\n",
       "    <tr>\n",
       "      <th>906</th>\n",
       "      <td>Full HD 1920x1080</td>\n",
       "      <td>1920x1080</td>\n",
       "    </tr>\n",
       "    <tr>\n",
       "      <th>1123</th>\n",
       "      <td>1366x768</td>\n",
       "      <td>1366x768</td>\n",
       "    </tr>\n",
       "    <tr>\n",
       "      <th>531</th>\n",
       "      <td>IPS Panel Full HD 1920x1080</td>\n",
       "      <td>1920x1080</td>\n",
       "    </tr>\n",
       "  </tbody>\n",
       "</table>\n",
       "</div>"
      ],
      "text/plain": [
       "                                   ScreenResolution Resolution\n",
       "74                                         1366x768   1366x768\n",
       "1119                              Full HD 1920x1080  1920x1080\n",
       "1059                              Full HD 1920x1080  1920x1080\n",
       "1031                                       1366x768   1366x768\n",
       "1246                                       1366x768   1366x768\n",
       "207   IPS Panel 4K Ultra HD / Touchscreen 3840x2160  3840x2160\n",
       "579                               Full HD 1920x1080  1920x1080\n",
       "906                               Full HD 1920x1080  1920x1080\n",
       "1123                                       1366x768   1366x768\n",
       "531                     IPS Panel Full HD 1920x1080  1920x1080"
      ]
     },
     "execution_count": 33,
     "metadata": {},
     "output_type": "execute_result"
    }
   ],
   "source": [
    "Laptop_data[['ScreenResolution', 'Resolution']].sample(10)"
   ]
  },
  {
   "cell_type": "code",
   "execution_count": 34,
   "id": "07801ea9",
   "metadata": {},
   "outputs": [
    {
     "data": {
      "text/plain": [
       "<AxesSubplot:xlabel='Resolution', ylabel='Price'>"
      ]
     },
     "execution_count": 34,
     "metadata": {},
     "output_type": "execute_result"
    },
    {
     "data": {
      "image/png": "[encoded data removed]",
      "text/plain": [
       "<Figure size 720x504 with 1 Axes>"
      ]
     },
     "metadata": {
      "needs_background": "light"
     },
     "output_type": "display_data"
    }
   ],
   "source": [
    "plt.figure(figsize=(10,7))\n",
    "plt.xticks(rotation=90)\n",
    "sns.barplot(x='Resolution', y='Price', data=Laptop_data, order= Laptop_data['Resolution'].value_counts().index)"
   ]
  },
  {
   "cell_type": "code",
   "execution_count": 35,
   "id": "217422b9",
   "metadata": {},
   "outputs": [],
   "source": [
    "# Pickle the Resolution categories\n",
    "\n",
    "pickle.dump(Laptop_data['Resolution'].unique().tolist(), open('Resolution_catg.pkl','wb'))"
   ]
  },
  {
   "cell_type": "code",
   "execution_count": 36,
   "id": "8150a236",
   "metadata": {},
   "outputs": [
    {
     "data": {
      "text/html": [
       "<div>\n",
       "<style scoped>\n",
       "    .dataframe tbody tr th:only-of-type {\n",
       "        vertical-align: middle;\n",
       "    }\n",
       "\n",
       "    .dataframe tbody tr th {\n",
       "        vertical-align: top;\n",
       "    }\n",
       "\n",
       "    .dataframe thead th {\n",
       "        text-align: right;\n",
       "    }\n",
       "</style>\n",
       "<table border=\"1\" class=\"dataframe\">\n",
       "  <thead>\n",
       "    <tr style=\"text-align: right;\">\n",
       "      <th></th>\n",
       "      <th>Company</th>\n",
       "      <th>TypeName</th>\n",
       "      <th>Inches</th>\n",
       "      <th>Cpu</th>\n",
       "      <th>Ram</th>\n",
       "      <th>Memory</th>\n",
       "      <th>Gpu</th>\n",
       "      <th>OpSys</th>\n",
       "      <th>Weight</th>\n",
       "      <th>Price</th>\n",
       "      <th>IPS</th>\n",
       "      <th>Touchscreen</th>\n",
       "      <th>FHD</th>\n",
       "      <th>QHD</th>\n",
       "      <th>4KUHD</th>\n",
       "      <th>Retina Display</th>\n",
       "      <th>Resolution</th>\n",
       "    </tr>\n",
       "  </thead>\n",
       "  <tbody>\n",
       "    <tr>\n",
       "      <th>0</th>\n",
       "      <td>Apple</td>\n",
       "      <td>Ultrabook</td>\n",
       "      <td>13.3</td>\n",
       "      <td>Intel Core i5 2.3GHz</td>\n",
       "      <td>8GB</td>\n",
       "      <td>128GB SSD</td>\n",
       "      <td>Intel Iris Plus Graphics 640</td>\n",
       "      <td>macOS</td>\n",
       "      <td>1.37</td>\n",
       "      <td>71378.6832</td>\n",
       "      <td>1</td>\n",
       "      <td>0</td>\n",
       "      <td>0</td>\n",
       "      <td>0</td>\n",
       "      <td>0</td>\n",
       "      <td>1</td>\n",
       "      <td>2560x1600</td>\n",
       "    </tr>\n",
       "  </tbody>\n",
       "</table>\n",
       "</div>"
      ],
      "text/plain": [
       "  Company   TypeName  Inches                   Cpu  Ram     Memory  \\\n",
       "0   Apple  Ultrabook    13.3  Intel Core i5 2.3GHz  8GB  128GB SSD   \n",
       "\n",
       "                            Gpu  OpSys  Weight       Price  IPS  Touchscreen  \\\n",
       "0  Intel Iris Plus Graphics 640  macOS    1.37  71378.6832    1            0   \n",
       "\n",
       "   FHD  QHD  4KUHD  Retina Display Resolution  \n",
       "0    0    0      0               1  2560x1600  "
      ]
     },
     "execution_count": 36,
     "metadata": {},
     "output_type": "execute_result"
    }
   ],
   "source": [
    "# Droping the original 'ScreenResolution'\n",
    "Laptop_data.drop(columns=['ScreenResolution'], axis=1, inplace=True)\n",
    "Laptop_data.head(1)"
   ]
  },
  {
   "cell_type": "markdown",
   "id": "4eea2ceb",
   "metadata": {},
   "source": [
    "### Cpu"
   ]
  },
  {
   "cell_type": "code",
   "execution_count": 37,
   "id": "541884dc",
   "metadata": {},
   "outputs": [
    {
     "data": {
      "text/plain": [
       "array([190, 146, 134,  73,  72,  68,  64,  49,  43,  37,  33,  30,  28,\n",
       "        18,  16,  14,  14,  13,  11,  11,  11,  11,  10,   9,   8,   7,\n",
       "         7,   7,   7,   5,   5,   5,   5,   5,   5,   5,   4,   4,   4,\n",
       "         3,   3,   3,   3,   3,   3,   3,   2,   2,   2,   2,   2,   2,\n",
       "         2,   2,   2,   2,   2,   2,   2,   2,   2,   2,   2,   2,   2,\n",
       "         2,   2,   2,   1,   1,   1,   1,   1,   1,   1,   1,   1,   1,\n",
       "         1,   1,   1,   1,   1,   1,   1,   1,   1,   1,   1,   1,   1,\n",
       "         1,   1,   1,   1,   1,   1,   1,   1,   1,   1,   1,   1,   1,\n",
       "         1,   1,   1,   1,   1,   1,   1,   1,   1,   1,   1,   1,   1,\n",
       "         1], dtype=int64)"
      ]
     },
     "execution_count": 37,
     "metadata": {},
     "output_type": "execute_result"
    }
   ],
   "source": [
    "Cpu_count = Laptop_data['Cpu'].value_counts()\n",
    "Cpu_count.values"
   ]
  },
  {
   "cell_type": "code",
   "execution_count": 38,
   "id": "a3d818ba",
   "metadata": {},
   "outputs": [
    {
     "data": {
      "text/plain": [
       "Index(['Intel Core i5 7200U 2.5GHz', 'Intel Core i7 7700HQ 2.8GHz',\n",
       "       'Intel Core i7 7500U 2.7GHz', 'Intel Core i7 8550U 1.8GHz',\n",
       "       'Intel Core i5 8250U 1.6GHz', 'Intel Core i5 6200U 2.3GHz',\n",
       "       'Intel Core i3 6006U 2GHz', 'Intel Core i7 6500U 2.5GHz',\n",
       "       'Intel Core i7 6700HQ 2.6GHz', 'Intel Core i3 7100U 2.4GHz',\n",
       "       'Intel Core i5 7300HQ 2.5GHz'],\n",
       "      dtype='object')"
      ]
     },
     "execution_count": 38,
     "metadata": {},
     "output_type": "execute_result"
    }
   ],
   "source": [
    "Cpu_count[Cpu_count > 30].index"
   ]
  },
  {
   "cell_type": "code",
   "execution_count": 39,
   "id": "1276b8b7",
   "metadata": {
    "scrolled": false
   },
   "outputs": [
    {
     "data": {
      "text/plain": [
       "['Intel Celeron Dual Core N3350 1.1GHz',\n",
       " 'Intel Celeron Dual Core N3060 1.6GHz',\n",
       " 'Intel Core i7 6600U 2.6GHz',\n",
       " 'Intel Core i3 6006U 2.0GHz',\n",
       " 'Intel Core i5 7300U 2.6GHz',\n",
       " 'Intel Pentium Quad Core N4200 1.1GHz',\n",
       " 'Intel Core i7 7600U 2.8GHz',\n",
       " 'Intel Celeron Dual Core N3050 1.6GHz',\n",
       " 'Intel Core i5 6300U 2.4GHz',\n",
       " 'Intel Pentium Quad Core N3710 1.6GHz',\n",
       " 'AMD A9-Series 9420 3GHz',\n",
       " 'Intel Core i7 6820HK 2.7GHz',\n",
       " 'Intel Core i3 6100U 2.3GHz',\n",
       " 'Intel Core i3 7130U 2.7GHz',\n",
       " 'Intel Core i5 6300HQ 2.3GHz',\n",
       " 'AMD A6-Series 9220 2.5GHz',\n",
       " 'Intel Core i7 6820HQ 2.7GHz',\n",
       " 'Intel Core i7 7820HK 2.9GHz',\n",
       " 'Intel Core M 6Y75 1.2GHz',\n",
       " 'Intel Core i7 7820HQ 2.9GHz',\n",
       " 'Intel Core i7 7Y75 1.3GHz',\n",
       " 'Intel Celeron Quad Core N3450 1.1GHz',\n",
       " 'Intel Core i5 7440HQ 2.8GHz',\n",
       " 'AMD A12-Series 9720P 3.6GHz',\n",
       " 'Intel Atom x5-Z8350 1.44GHz',\n",
       " 'AMD A8-Series 7410 2.2GHz',\n",
       " 'Intel Atom x5-Z8550 1.44GHz',\n",
       " 'Intel Celeron Dual Core 3205U 1.5GHz',\n",
       " 'Intel Core i5 7Y54 1.2GHz',\n",
       " 'AMD A9-Series 9410 2.9GHz',\n",
       " 'Intel Core i7 7660U 2.5GHz',\n",
       " 'Intel Core M 6Y30 0.9GHz',\n",
       " 'Intel Core i5 1.6GHz',\n",
       " 'Intel Celeron Dual Core 3855U 1.6GHz',\n",
       " 'AMD Ryzen 1700 3GHz',\n",
       " 'Intel Core i7 6500U 2.50GHz',\n",
       " 'Intel Core i5 1.8GHz',\n",
       " 'Intel Pentium Quad Core N3700 1.6GHz',\n",
       " 'AMD A10-Series 9600P 2.4GHz',\n",
       " 'Intel Core i7 8650U 1.9GHz',\n",
       " 'AMD A6-Series A6-9220 2.5GHz',\n",
       " 'Intel Celeron Dual Core N3350 2GHz',\n",
       " 'Intel Atom X5-Z8350 1.44GHz',\n",
       " 'Intel Core i7 7560U 2.4GHz',\n",
       " 'Intel Core M 1.2GHz',\n",
       " 'AMD A12-Series 9720P 2.7GHz',\n",
       " 'Intel Core i5 3.1GHz',\n",
       " 'AMD A9-Series A9-9420 3GHz',\n",
       " 'Intel Core M 1.1GHz',\n",
       " 'AMD A10-Series A10-9620P 2.5GHz',\n",
       " 'Intel Core i5 7Y57 1.2GHz',\n",
       " 'Intel Core i5 2.3GHz',\n",
       " 'AMD E-Series E2-9000e 1.5GHz',\n",
       " 'AMD E-Series 7110 1.8GHz',\n",
       " 'Intel Xeon E3-1505M V6 3GHz',\n",
       " 'AMD A10-Series 9620P 2.5GHz',\n",
       " 'Intel Celeron Quad Core N3160 1.6GHz',\n",
       " 'Intel Core M 7Y30 1.0GHz',\n",
       " 'Intel Core M m3 1.2GHz',\n",
       " 'Intel Celeron Quad Core N3710 1.6GHz',\n",
       " 'AMD FX 8800P 2.1GHz',\n",
       " 'AMD E-Series 6110 1.5GHz',\n",
       " 'Intel Core M M3-6Y30 0.9GHz',\n",
       " 'Intel Pentium Dual Core N4200 1.1GHz',\n",
       " 'Intel Core i3 6006U 2.2GHz',\n",
       " 'Intel Core i5 7200U 2.7GHz',\n",
       " 'AMD A4-Series 7210 2.2GHz',\n",
       " 'AMD E-Series 9000 2.2GHz',\n",
       " 'AMD A6-Series 9220 2.9GHz',\n",
       " 'Intel Core i7 2.7GHz',\n",
       " 'AMD E-Series E2-6110 1.5GHz',\n",
       " 'Intel Celeron Dual Core N3060 1.60GHz',\n",
       " 'Intel Pentium Dual Core 4405U 2.1GHz',\n",
       " 'Intel Atom Z8350 1.92GHz',\n",
       " 'Intel Celeron Dual Core N3350 2.0GHz',\n",
       " 'AMD Ryzen 1600 3.2GHz',\n",
       " 'Intel Core i7 2.9GHz',\n",
       " 'Intel Core i7 2.2GHz',\n",
       " 'Intel Core i5 6440HQ 2.6GHz',\n",
       " 'Intel Core i5 2.0GHz',\n",
       " 'Intel Core M M7-6Y75 1.2GHz',\n",
       " 'Intel Core i5 1.3GHz',\n",
       " 'Intel Core i7 7700HQ 2.7GHz',\n",
       " 'Samsung Cortex A72&A53 2.0GHz',\n",
       " 'Intel Core i7 2.8GHz',\n",
       " 'Intel Core i7 6920HQ 2.9GHz',\n",
       " 'Intel Core i7 6560U 2.2GHz',\n",
       " 'Intel Pentium Dual Core 4405Y 1.5GHz',\n",
       " 'Intel Core i3 6100U 2.1GHz',\n",
       " 'Intel Xeon E3-1535M v6 3.1GHz',\n",
       " 'Intel Xeon E3-1535M v5 2.9GHz',\n",
       " 'Intel Core M m3-7Y30 2.2GHz',\n",
       " 'AMD A6-Series 7310 2GHz',\n",
       " 'AMD A12-Series 9700P 2.5GHz',\n",
       " 'Intel Core i5 6260U 1.8GHz',\n",
       " 'AMD FX 9830P 3GHz',\n",
       " 'Intel Atom x5-Z8300 1.44GHz',\n",
       " 'AMD A9-Series 9420 2.9GHz',\n",
       " 'Intel Core i7 7500U 2.5GHz',\n",
       " 'Intel Core i5 7500U 2.7GHz',\n",
       " 'Intel Core M 6Y54 1.1GHz',\n",
       " 'Intel Core i5 7200U 2.50GHz',\n",
       " 'AMD E-Series E2-9000 2.2GHz',\n",
       " 'Intel Core M m7-6Y75 1.2GHz',\n",
       " 'AMD E-Series 9000e 1.5GHz',\n",
       " 'Intel Core i5 7200U 2.70GHz',\n",
       " 'Intel Core i5 2.9GHz']"
      ]
     },
     "execution_count": 39,
     "metadata": {},
     "output_type": "execute_result"
    }
   ],
   "source": [
    "Cpu_least_catg = Cpu_count[Cpu_count <= 30].index.tolist()\n",
    "Cpu_least_catg"
   ]
  },
  {
   "cell_type": "code",
   "execution_count": 40,
   "id": "95c85dcf",
   "metadata": {},
   "outputs": [],
   "source": [
    "# Laptop_data['Cpu'] = Laptop_data['Cpu'].replace(other_Cpu,'Other')\n",
    "# Laptop_data['Cpu'].value_counts()\n",
    "\n",
    "Cpu_Intel_least_list = [cpu for cpu in Cpu_least_catg if 'Intel' in cpu]\n",
    "Cpu_AMD_least_list = [cpu for cpu in Cpu_least_catg if 'AMD' in cpu]"
   ]
  },
  {
   "cell_type": "code",
   "execution_count": 41,
   "id": "a8b5e4e3",
   "metadata": {},
   "outputs": [
    {
     "data": {
      "text/plain": [
       "['Intel Celeron Dual Core N3350 1.1GHz',\n",
       " 'Intel Celeron Dual Core N3060 1.6GHz',\n",
       " 'Intel Core i7 6600U 2.6GHz',\n",
       " 'Intel Core i3 6006U 2.0GHz',\n",
       " 'Intel Core i5 7300U 2.6GHz',\n",
       " 'Intel Pentium Quad Core N4200 1.1GHz',\n",
       " 'Intel Core i7 7600U 2.8GHz',\n",
       " 'Intel Celeron Dual Core N3050 1.6GHz',\n",
       " 'Intel Core i5 6300U 2.4GHz',\n",
       " 'Intel Pentium Quad Core N3710 1.6GHz',\n",
       " 'Intel Core i7 6820HK 2.7GHz',\n",
       " 'Intel Core i3 6100U 2.3GHz',\n",
       " 'Intel Core i3 7130U 2.7GHz',\n",
       " 'Intel Core i5 6300HQ 2.3GHz',\n",
       " 'Intel Core i7 6820HQ 2.7GHz',\n",
       " 'Intel Core i7 7820HK 2.9GHz',\n",
       " 'Intel Core M 6Y75 1.2GHz',\n",
       " 'Intel Core i7 7820HQ 2.9GHz',\n",
       " 'Intel Core i7 7Y75 1.3GHz',\n",
       " 'Intel Celeron Quad Core N3450 1.1GHz',\n",
       " 'Intel Core i5 7440HQ 2.8GHz',\n",
       " 'Intel Atom x5-Z8350 1.44GHz',\n",
       " 'Intel Atom x5-Z8550 1.44GHz',\n",
       " 'Intel Celeron Dual Core 3205U 1.5GHz',\n",
       " 'Intel Core i5 7Y54 1.2GHz',\n",
       " 'Intel Core i7 7660U 2.5GHz',\n",
       " 'Intel Core M 6Y30 0.9GHz',\n",
       " 'Intel Core i5 1.6GHz',\n",
       " 'Intel Celeron Dual Core 3855U 1.6GHz',\n",
       " 'Intel Core i7 6500U 2.50GHz',\n",
       " 'Intel Core i5 1.8GHz',\n",
       " 'Intel Pentium Quad Core N3700 1.6GHz',\n",
       " 'Intel Core i7 8650U 1.9GHz',\n",
       " 'Intel Celeron Dual Core N3350 2GHz',\n",
       " 'Intel Atom X5-Z8350 1.44GHz',\n",
       " 'Intel Core i7 7560U 2.4GHz',\n",
       " 'Intel Core M 1.2GHz',\n",
       " 'Intel Core i5 3.1GHz',\n",
       " 'Intel Core M 1.1GHz',\n",
       " 'Intel Core i5 7Y57 1.2GHz',\n",
       " 'Intel Core i5 2.3GHz',\n",
       " 'Intel Xeon E3-1505M V6 3GHz',\n",
       " 'Intel Celeron Quad Core N3160 1.6GHz',\n",
       " 'Intel Core M 7Y30 1.0GHz',\n",
       " 'Intel Core M m3 1.2GHz',\n",
       " 'Intel Celeron Quad Core N3710 1.6GHz',\n",
       " 'Intel Core M M3-6Y30 0.9GHz',\n",
       " 'Intel Pentium Dual Core N4200 1.1GHz',\n",
       " 'Intel Core i3 6006U 2.2GHz',\n",
       " 'Intel Core i5 7200U 2.7GHz',\n",
       " 'Intel Core i7 2.7GHz',\n",
       " 'Intel Celeron Dual Core N3060 1.60GHz',\n",
       " 'Intel Pentium Dual Core 4405U 2.1GHz',\n",
       " 'Intel Atom Z8350 1.92GHz',\n",
       " 'Intel Celeron Dual Core N3350 2.0GHz',\n",
       " 'Intel Core i7 2.9GHz',\n",
       " 'Intel Core i7 2.2GHz',\n",
       " 'Intel Core i5 6440HQ 2.6GHz',\n",
       " 'Intel Core i5 2.0GHz',\n",
       " 'Intel Core M M7-6Y75 1.2GHz',\n",
       " 'Intel Core i5 1.3GHz',\n",
       " 'Intel Core i7 7700HQ 2.7GHz',\n",
       " 'Intel Core i7 2.8GHz',\n",
       " 'Intel Core i7 6920HQ 2.9GHz',\n",
       " 'Intel Core i7 6560U 2.2GHz',\n",
       " 'Intel Pentium Dual Core 4405Y 1.5GHz',\n",
       " 'Intel Core i3 6100U 2.1GHz',\n",
       " 'Intel Xeon E3-1535M v6 3.1GHz',\n",
       " 'Intel Xeon E3-1535M v5 2.9GHz',\n",
       " 'Intel Core M m3-7Y30 2.2GHz',\n",
       " 'Intel Core i5 6260U 1.8GHz',\n",
       " 'Intel Atom x5-Z8300 1.44GHz',\n",
       " 'Intel Core i7 7500U 2.5GHz',\n",
       " 'Intel Core i5 7500U 2.7GHz',\n",
       " 'Intel Core M 6Y54 1.1GHz',\n",
       " 'Intel Core i5 7200U 2.50GHz',\n",
       " 'Intel Core M m7-6Y75 1.2GHz',\n",
       " 'Intel Core i5 7200U 2.70GHz',\n",
       " 'Intel Core i5 2.9GHz']"
      ]
     },
     "execution_count": 41,
     "metadata": {},
     "output_type": "execute_result"
    }
   ],
   "source": [
    "Cpu_Intel_least_list"
   ]
  },
  {
   "cell_type": "code",
   "execution_count": 42,
   "id": "9f0f7235",
   "metadata": {},
   "outputs": [
    {
     "data": {
      "text/plain": [
       "['AMD A9-Series 9420 3GHz',\n",
       " 'AMD A6-Series 9220 2.5GHz',\n",
       " 'AMD A12-Series 9720P 3.6GHz',\n",
       " 'AMD A8-Series 7410 2.2GHz',\n",
       " 'AMD A9-Series 9410 2.9GHz',\n",
       " 'AMD Ryzen 1700 3GHz',\n",
       " 'AMD A10-Series 9600P 2.4GHz',\n",
       " 'AMD A6-Series A6-9220 2.5GHz',\n",
       " 'AMD A12-Series 9720P 2.7GHz',\n",
       " 'AMD A9-Series A9-9420 3GHz',\n",
       " 'AMD A10-Series A10-9620P 2.5GHz',\n",
       " 'AMD E-Series E2-9000e 1.5GHz',\n",
       " 'AMD E-Series 7110 1.8GHz',\n",
       " 'AMD A10-Series 9620P 2.5GHz',\n",
       " 'AMD FX 8800P 2.1GHz',\n",
       " 'AMD E-Series 6110 1.5GHz',\n",
       " 'AMD A4-Series 7210 2.2GHz',\n",
       " 'AMD E-Series 9000 2.2GHz',\n",
       " 'AMD A6-Series 9220 2.9GHz',\n",
       " 'AMD E-Series E2-6110 1.5GHz',\n",
       " 'AMD Ryzen 1600 3.2GHz',\n",
       " 'AMD A6-Series 7310 2GHz',\n",
       " 'AMD A12-Series 9700P 2.5GHz',\n",
       " 'AMD FX 9830P 3GHz',\n",
       " 'AMD A9-Series 9420 2.9GHz',\n",
       " 'AMD E-Series E2-9000 2.2GHz',\n",
       " 'AMD E-Series 9000e 1.5GHz']"
      ]
     },
     "execution_count": 42,
     "metadata": {},
     "output_type": "execute_result"
    }
   ],
   "source": [
    "Cpu_AMD_least_list"
   ]
  },
  {
   "cell_type": "code",
   "execution_count": 43,
   "id": "a0b02fe7",
   "metadata": {},
   "outputs": [],
   "source": [
    "Laptop_data['Cpu'] = Laptop_data['Cpu'].replace(Cpu_Intel_least_list, 'Intel other CPU')\n",
    "Laptop_data['Cpu'] = Laptop_data['Cpu'].replace(Cpu_AMD_least_list, 'AMD')"
   ]
  },
  {
   "cell_type": "code",
   "execution_count": 44,
   "id": "c4d306a6",
   "metadata": {},
   "outputs": [
    {
     "data": {
      "text/plain": [
       "<AxesSubplot:xlabel='Cpu', ylabel='Price'>"
      ]
     },
     "execution_count": 44,
     "metadata": {},
     "output_type": "execute_result"
    },
    {
     "data": {
      "image/png": "[encoded data removed]",
      "text/plain": [
       "<Figure size 720x504 with 1 Axes>"
      ]
     },
     "metadata": {
      "needs_background": "light"
     },
     "output_type": "display_data"
    }
   ],
   "source": [
    "plt.figure(figsize=(10,7))\n",
    "plt.xticks(rotation=90)\n",
    "sns.barplot(data=Laptop_data, x='Cpu', y='Price')"
   ]
  },
  {
   "cell_type": "code",
   "execution_count": 45,
   "id": "fd622c6d",
   "metadata": {},
   "outputs": [],
   "source": [
    "I3 = ['i3 6006U', 'i3 7100U']\n",
    "I5_1 = ['i5 7200U', 'i5 8250U']\n",
    "I5_2 = ['i5 7300HQ', 'i5 6200U']\n",
    "I7_1 = ['i7 8550U', 'i7 7500U', 'i7 6500U']\n",
    "I7_2 = ['i7 7700HQ', 'i7 6700HQ']\n",
    "\n",
    "I3_idx = Laptop_data[Laptop_data['Cpu'].str.contains(\"|\".join(I3))].index\n",
    "I5_1_idx = Laptop_data[Laptop_data['Cpu'].str.contains(\"|\".join(I5_1))].index\n",
    "I5_2_idx = Laptop_data[Laptop_data['Cpu'].str.contains(\"|\".join(I5_2))].index\n",
    "I7_1_idx = Laptop_data[Laptop_data['Cpu'].str.contains(\"|\".join(I7_1))].index\n",
    "I7_2_idx = Laptop_data[Laptop_data['Cpu'].str.contains(\"|\".join(I7_2))].index\n",
    "\n",
    "Laptop_data.at[I3_idx,'Cpu'] = 'Intel I3'\n",
    "Laptop_data.at[I5_1_idx,'Cpu'] = 'Intel I5 Basic'\n",
    "Laptop_data.at[I5_2_idx,'Cpu'] = 'Intel I5 Premium'\n",
    "Laptop_data.at[I7_1_idx,'Cpu'] = 'Intel I7 Basic'\n",
    "Laptop_data.at[I7_2_idx,'Cpu'] = 'Intel I7 Premium'"
   ]
  },
  {
   "cell_type": "code",
   "execution_count": 46,
   "id": "7963e95a",
   "metadata": {},
   "outputs": [
    {
     "data": {
      "text/plain": [
       "Intel other CPU                  331\n",
       "Intel I5 Basic                   262\n",
       "Intel I7 Basic                   256\n",
       "Intel I7 Premium                 189\n",
       "Intel I3                         101\n",
       "Intel I5 Premium                 101\n",
       "AMD                               62\n",
       "Samsung Cortex A72&A53 2.0GHz      1\n",
       "Name: Cpu, dtype: int64"
      ]
     },
     "execution_count": 46,
     "metadata": {},
     "output_type": "execute_result"
    }
   ],
   "source": [
    "Laptop_data['Cpu'].value_counts()"
   ]
  },
  {
   "cell_type": "code",
   "execution_count": 47,
   "id": "8da8cf9a",
   "metadata": {},
   "outputs": [
    {
     "data": {
      "text/html": [
       "<div>\n",
       "<style scoped>\n",
       "    .dataframe tbody tr th:only-of-type {\n",
       "        vertical-align: middle;\n",
       "    }\n",
       "\n",
       "    .dataframe tbody tr th {\n",
       "        vertical-align: top;\n",
       "    }\n",
       "\n",
       "    .dataframe thead th {\n",
       "        text-align: right;\n",
       "    }\n",
       "</style>\n",
       "<table border=\"1\" class=\"dataframe\">\n",
       "  <thead>\n",
       "    <tr style=\"text-align: right;\">\n",
       "      <th></th>\n",
       "      <th>Company</th>\n",
       "      <th>TypeName</th>\n",
       "      <th>Inches</th>\n",
       "      <th>Cpu</th>\n",
       "      <th>Ram</th>\n",
       "      <th>Memory</th>\n",
       "      <th>Gpu</th>\n",
       "      <th>OpSys</th>\n",
       "      <th>Weight</th>\n",
       "      <th>Price</th>\n",
       "      <th>IPS</th>\n",
       "      <th>Touchscreen</th>\n",
       "      <th>FHD</th>\n",
       "      <th>QHD</th>\n",
       "      <th>4KUHD</th>\n",
       "      <th>Retina Display</th>\n",
       "      <th>Resolution</th>\n",
       "    </tr>\n",
       "  </thead>\n",
       "  <tbody>\n",
       "    <tr>\n",
       "      <th>1191</th>\n",
       "      <td>Other</td>\n",
       "      <td>2 in 1 Convertible</td>\n",
       "      <td>12.3</td>\n",
       "      <td>Samsung Cortex A72&amp;A53 2.0GHz</td>\n",
       "      <td>4GB</td>\n",
       "      <td>32GB Flash Storage</td>\n",
       "      <td>ARM Mali T860 MP4</td>\n",
       "      <td>Chrome OS</td>\n",
       "      <td>1.15</td>\n",
       "      <td>35111.52</td>\n",
       "      <td>1</td>\n",
       "      <td>1</td>\n",
       "      <td>0</td>\n",
       "      <td>0</td>\n",
       "      <td>0</td>\n",
       "      <td>0</td>\n",
       "      <td>2400x1600</td>\n",
       "    </tr>\n",
       "  </tbody>\n",
       "</table>\n",
       "</div>"
      ],
      "text/plain": [
       "     Company            TypeName  Inches                            Cpu  Ram  \\\n",
       "1191   Other  2 in 1 Convertible    12.3  Samsung Cortex A72&A53 2.0GHz  4GB   \n",
       "\n",
       "                  Memory                Gpu      OpSys  Weight     Price  IPS  \\\n",
       "1191  32GB Flash Storage  ARM Mali T860 MP4  Chrome OS    1.15  35111.52    1   \n",
       "\n",
       "      Touchscreen  FHD  QHD  4KUHD  Retina Display Resolution  \n",
       "1191            1    0    0      0               0  2400x1600  "
      ]
     },
     "execution_count": 47,
     "metadata": {},
     "output_type": "execute_result"
    }
   ],
   "source": [
    "Laptop_data[Laptop_data['Cpu'] == 'Samsung Cortex A72&A53 2.0GHz']"
   ]
  },
  {
   "cell_type": "code",
   "execution_count": 48,
   "id": "c5ee180b",
   "metadata": {},
   "outputs": [
    {
     "data": {
      "text/plain": [
       "Intel other CPU     331\n",
       "Intel I5 Basic      262\n",
       "Intel I7 Basic      256\n",
       "Intel I7 Premium    189\n",
       "Intel I3            101\n",
       "Intel I5 Premium    101\n",
       "AMD                  62\n",
       "Name: Cpu, dtype: int64"
      ]
     },
     "execution_count": 48,
     "metadata": {},
     "output_type": "execute_result"
    }
   ],
   "source": [
    "# Gpu 'Samsung Cortex A72&A53 2.0GHz' present in only 1 record so we will drop it.\n",
    "\n",
    "Laptop_data.drop(Laptop_data[Laptop_data['Cpu'] == 'Samsung Cortex A72&A53 2.0GHz'].index, inplace=True)\n",
    "Laptop_data['Cpu'].value_counts()"
   ]
  },
  {
   "cell_type": "markdown",
   "id": "c3febc48",
   "metadata": {},
   "source": [
    "### Ram"
   ]
  },
  {
   "cell_type": "code",
   "execution_count": 49,
   "id": "13d4b73d",
   "metadata": {},
   "outputs": [
    {
     "data": {
      "text/plain": [
       "8GB     619\n",
       "4GB     374\n",
       "16GB    200\n",
       "6GB      41\n",
       "12GB     25\n",
       "2GB      22\n",
       "32GB     17\n",
       "24GB      3\n",
       "64GB      1\n",
       "Name: Ram, dtype: int64"
      ]
     },
     "execution_count": 49,
     "metadata": {},
     "output_type": "execute_result"
    }
   ],
   "source": [
    "Laptop_data['Ram'].value_counts()"
   ]
  },
  {
   "cell_type": "markdown",
   "id": "c7929f27",
   "metadata": {},
   "source": [
    "'Ram' is categorical data with numerical + textual content. <Br>We can simply remove the word 'GB' from each reacrd and keep the numerical content as it is."
   ]
  },
  {
   "cell_type": "code",
   "execution_count": 50,
   "id": "1b04b591",
   "metadata": {},
   "outputs": [
    {
     "data": {
      "text/plain": [
       "8     619\n",
       "4     374\n",
       "16    200\n",
       "6      41\n",
       "12     25\n",
       "2      22\n",
       "32     17\n",
       "24      3\n",
       "64      1\n",
       "Name: Ram, dtype: int64"
      ]
     },
     "execution_count": 50,
     "metadata": {},
     "output_type": "execute_result"
    }
   ],
   "source": [
    "Laptop_data['Ram'] = Laptop_data['Ram'].str.strip('GB')\n",
    "Laptop_data['Ram'] = Laptop_data['Ram'].astype('int32')\n",
    "Laptop_data['Ram'].value_counts()"
   ]
  },
  {
   "cell_type": "markdown",
   "id": "7448656f",
   "metadata": {},
   "source": [
    "### Memory"
   ]
  },
  {
   "cell_type": "code",
   "execution_count": 51,
   "id": "6f625a23",
   "metadata": {},
   "outputs": [
    {
     "data": {
      "text/plain": [
       "256GB SSD                        412\n",
       "1TB HDD                          223\n",
       "500GB HDD                        132\n",
       "512GB SSD                        118\n",
       "128GB SSD +  1TB HDD              94\n",
       "128GB SSD                         76\n",
       "256GB SSD +  1TB HDD              73\n",
       "32GB Flash Storage                37\n",
       "2TB HDD                           16\n",
       "64GB Flash Storage                15\n",
       "1TB SSD                           14\n",
       "512GB SSD +  1TB HDD              14\n",
       "256GB SSD +  2TB HDD              10\n",
       "1.0TB Hybrid                       9\n",
       "256GB Flash Storage                8\n",
       "16GB Flash Storage                 7\n",
       "32GB SSD                           6\n",
       "180GB SSD                          5\n",
       "128GB Flash Storage                4\n",
       "512GB SSD +  2TB HDD               3\n",
       "16GB SSD                           3\n",
       "1TB SSD +  1TB HDD                 2\n",
       "128GB SSD +  2TB HDD               2\n",
       "512GB Flash Storage                2\n",
       "256GB SSD +  256GB SSD             2\n",
       "256GB SSD +  500GB HDD             2\n",
       "64GB Flash Storage +  1TB HDD      1\n",
       "8GB SSD                            1\n",
       "512GB SSD +  256GB SSD             1\n",
       "512GB SSD +  1.0TB Hybrid          1\n",
       "508GB Hybrid                       1\n",
       "1.0TB HDD                          1\n",
       "512GB SSD +  512GB SSD             1\n",
       "32GB HDD                           1\n",
       "128GB HDD                          1\n",
       "256GB SSD +  1.0TB Hybrid          1\n",
       "64GB SSD                           1\n",
       "1TB HDD +  1TB HDD                 1\n",
       "240GB SSD                          1\n",
       "Name: Memory, dtype: int64"
      ]
     },
     "execution_count": 51,
     "metadata": {},
     "output_type": "execute_result"
    }
   ],
   "source": [
    "Laptop_data['Memory'].value_counts()"
   ]
  },
  {
   "cell_type": "code",
   "execution_count": 52,
   "id": "05578efa",
   "metadata": {},
   "outputs": [],
   "source": [
    "def extract_memory(x):\n",
    "    is_ssd = re.findall(r'\\d\\.*\\d*[A-Za-z]* SSD', x)\n",
    "    is_hdd = re.findall(r'\\d\\.*\\d*[A-Za-z]* HDD', x)\n",
    "    is_hybrid = re.findall(r'\\d\\.*\\d*[A-Za-z]* Hybrid', x)\n",
    "    is_flash = re.findall(r'\\d\\.*\\d*[A-Za-z]* Flash Storage', x)\n",
    "\n",
    "    if len(is_ssd)>0:\n",
    "        ssd_vol = float(re.findall(r'\\d\\.*\\d*',is_ssd[0])[0])\n",
    "        if 'TB' in is_ssd[0]:\n",
    "            ssd_vol = ssd_vol * 1024\n",
    "    else:\n",
    "        ssd_vol = 0.0\n",
    "\n",
    "\n",
    "    if len(is_hdd)>0:\n",
    "        hdd_vol = float(re.findall(r'\\d\\.*\\d*',is_hdd[0])[0])\n",
    "        if 'TB' in is_hdd[0]:\n",
    "            hdd_vol = hdd_vol * 1024\n",
    "    else:\n",
    "        hdd_vol = 0.0\n",
    "\n",
    "    if len(is_hybrid)>0:\n",
    "        hybrid_vol = float(re.findall(r'\\d\\.*\\d*',is_hybrid[0])[0])\n",
    "        if 'TB' in is_hybrid[0]:\n",
    "            hybrid_vol = hybrid_vol * 1024\n",
    "    else:\n",
    "        hybrid_vol = 0.0\n",
    "        \n",
    "    if len(is_flash)>0:\n",
    "        flash_vol = float(re.findall(r'\\d\\.*\\d*',is_flash[0])[0])\n",
    "        if 'TB' in is_flash[0]:\n",
    "            flash_vol = flash_vol * 1024\n",
    "    else:\n",
    "        flash_vol = 0.0\n",
    "    \n",
    "    return pd.Series([ssd_vol, hdd_vol, hybrid_vol,flash_vol])"
   ]
  },
  {
   "cell_type": "code",
   "execution_count": 53,
   "id": "f16a56f5",
   "metadata": {},
   "outputs": [],
   "source": [
    "Laptop_data[['SSD','HDD','Hybrid','Flash']] = Laptop_data['Memory'].apply(extract_memory)"
   ]
  },
  {
   "cell_type": "code",
   "execution_count": 54,
   "id": "c54e2473",
   "metadata": {
    "scrolled": true
   },
   "outputs": [
    {
     "data": {
      "text/html": [
       "<div>\n",
       "<style scoped>\n",
       "    .dataframe tbody tr th:only-of-type {\n",
       "        vertical-align: middle;\n",
       "    }\n",
       "\n",
       "    .dataframe tbody tr th {\n",
       "        vertical-align: top;\n",
       "    }\n",
       "\n",
       "    .dataframe thead th {\n",
       "        text-align: right;\n",
       "    }\n",
       "</style>\n",
       "<table border=\"1\" class=\"dataframe\">\n",
       "  <thead>\n",
       "    <tr style=\"text-align: right;\">\n",
       "      <th></th>\n",
       "      <th>Memory</th>\n",
       "      <th>SSD</th>\n",
       "      <th>HDD</th>\n",
       "      <th>Hybrid</th>\n",
       "      <th>Flash</th>\n",
       "    </tr>\n",
       "  </thead>\n",
       "  <tbody>\n",
       "    <tr>\n",
       "      <th>563</th>\n",
       "      <td>256GB SSD</td>\n",
       "      <td>256.0</td>\n",
       "      <td>0.0</td>\n",
       "      <td>0.0</td>\n",
       "      <td>0.0</td>\n",
       "    </tr>\n",
       "    <tr>\n",
       "      <th>500</th>\n",
       "      <td>64GB Flash Storage</td>\n",
       "      <td>0.0</td>\n",
       "      <td>0.0</td>\n",
       "      <td>0.0</td>\n",
       "      <td>64.0</td>\n",
       "    </tr>\n",
       "    <tr>\n",
       "      <th>198</th>\n",
       "      <td>256GB SSD +  1TB HDD</td>\n",
       "      <td>256.0</td>\n",
       "      <td>1024.0</td>\n",
       "      <td>0.0</td>\n",
       "      <td>0.0</td>\n",
       "    </tr>\n",
       "    <tr>\n",
       "      <th>163</th>\n",
       "      <td>256GB SSD</td>\n",
       "      <td>256.0</td>\n",
       "      <td>0.0</td>\n",
       "      <td>0.0</td>\n",
       "      <td>0.0</td>\n",
       "    </tr>\n",
       "    <tr>\n",
       "      <th>147</th>\n",
       "      <td>1TB HDD</td>\n",
       "      <td>0.0</td>\n",
       "      <td>1024.0</td>\n",
       "      <td>0.0</td>\n",
       "      <td>0.0</td>\n",
       "    </tr>\n",
       "    <tr>\n",
       "      <th>1213</th>\n",
       "      <td>256GB SSD</td>\n",
       "      <td>256.0</td>\n",
       "      <td>0.0</td>\n",
       "      <td>0.0</td>\n",
       "      <td>0.0</td>\n",
       "    </tr>\n",
       "    <tr>\n",
       "      <th>1176</th>\n",
       "      <td>1.0TB Hybrid</td>\n",
       "      <td>0.0</td>\n",
       "      <td>0.0</td>\n",
       "      <td>1024.0</td>\n",
       "      <td>0.0</td>\n",
       "    </tr>\n",
       "    <tr>\n",
       "      <th>718</th>\n",
       "      <td>32GB HDD</td>\n",
       "      <td>0.0</td>\n",
       "      <td>32.0</td>\n",
       "      <td>0.0</td>\n",
       "      <td>0.0</td>\n",
       "    </tr>\n",
       "    <tr>\n",
       "      <th>226</th>\n",
       "      <td>1TB HDD</td>\n",
       "      <td>0.0</td>\n",
       "      <td>1024.0</td>\n",
       "      <td>0.0</td>\n",
       "      <td>0.0</td>\n",
       "    </tr>\n",
       "    <tr>\n",
       "      <th>626</th>\n",
       "      <td>32GB Flash Storage</td>\n",
       "      <td>0.0</td>\n",
       "      <td>0.0</td>\n",
       "      <td>0.0</td>\n",
       "      <td>32.0</td>\n",
       "    </tr>\n",
       "  </tbody>\n",
       "</table>\n",
       "</div>"
      ],
      "text/plain": [
       "                    Memory    SSD     HDD  Hybrid  Flash\n",
       "563              256GB SSD  256.0     0.0     0.0    0.0\n",
       "500     64GB Flash Storage    0.0     0.0     0.0   64.0\n",
       "198   256GB SSD +  1TB HDD  256.0  1024.0     0.0    0.0\n",
       "163              256GB SSD  256.0     0.0     0.0    0.0\n",
       "147                1TB HDD    0.0  1024.0     0.0    0.0\n",
       "1213             256GB SSD  256.0     0.0     0.0    0.0\n",
       "1176          1.0TB Hybrid    0.0     0.0  1024.0    0.0\n",
       "718               32GB HDD    0.0    32.0     0.0    0.0\n",
       "226                1TB HDD    0.0  1024.0     0.0    0.0\n",
       "626     32GB Flash Storage    0.0     0.0     0.0   32.0"
      ]
     },
     "execution_count": 54,
     "metadata": {},
     "output_type": "execute_result"
    }
   ],
   "source": [
    "Laptop_data[['Memory','SSD','HDD','Hybrid','Flash']].sample(10)"
   ]
  },
  {
   "cell_type": "code",
   "execution_count": 55,
   "id": "fb0e4451",
   "metadata": {},
   "outputs": [],
   "source": [
    "# We can drop the 'Memory' column as we have created other columns using 'Memory' data\n",
    "\n",
    "Laptop_data.drop(columns='Memory', axis=1, inplace=True)"
   ]
  },
  {
   "cell_type": "markdown",
   "id": "35367784",
   "metadata": {},
   "source": [
    "### Gpu"
   ]
  },
  {
   "cell_type": "code",
   "execution_count": 56,
   "id": "39335079",
   "metadata": {},
   "outputs": [
    {
     "data": {
      "text/plain": [
       "Intel HD Graphics 620      281\n",
       "Intel HD Graphics 520      185\n",
       "Intel UHD Graphics 620      68\n",
       "Nvidia GeForce GTX 1050     66\n",
       "Nvidia GeForce GTX 1060     48\n",
       "                          ... \n",
       "Nvidia Quadro 3000M          1\n",
       "Intel HD Graphics 530        1\n",
       "AMD Radeon R7 M360           1\n",
       "AMD Radeon R7                1\n",
       "Intel Graphics 620           1\n",
       "Name: Gpu, Length: 109, dtype: int64"
      ]
     },
     "execution_count": 56,
     "metadata": {},
     "output_type": "execute_result"
    }
   ],
   "source": [
    "Gpu_count = Laptop_data['Gpu'].value_counts()\n",
    "Gpu_count"
   ]
  },
  {
   "cell_type": "code",
   "execution_count": 57,
   "id": "68f94d90",
   "metadata": {},
   "outputs": [
    {
     "data": {
      "text/plain": [
       "array([281, 185,  68,  66,  48,  43,  41,  39,  37,  30,  29,  28,  22,\n",
       "        20,  17,  15,  15,  14,  14,  14,  13,  12,  11,  10,   9,   9,\n",
       "         8,   8,   7,   7,   6,   6,   6,   6,   5,   5,   5,   5,   5,\n",
       "         5,   5,   5,   5,   5,   4,   4,   4,   4,   4,   4,   4,   3,\n",
       "         3,   3,   3,   3,   2,   2,   2,   2,   2,   2,   2,   2,   2,\n",
       "         2,   2,   2,   1,   1,   1,   1,   1,   1,   1,   1,   1,   1,\n",
       "         1,   1,   1,   1,   1,   1,   1,   1,   1,   1,   1,   1,   1,\n",
       "         1,   1,   1,   1,   1,   1,   1,   1,   1,   1,   1,   1,   1,\n",
       "         1,   1,   1,   1,   1], dtype=int64)"
      ]
     },
     "execution_count": 57,
     "metadata": {},
     "output_type": "execute_result"
    }
   ],
   "source": [
    "Gpu_count.values"
   ]
  },
  {
   "cell_type": "code",
   "execution_count": 58,
   "id": "071e76bf",
   "metadata": {},
   "outputs": [
    {
     "data": {
      "text/plain": [
       "['Intel HD Graphics 515',\n",
       " 'Nvidia GeForce MX150',\n",
       " 'Nvidia GeForce GTX 960M',\n",
       " 'Intel HD Graphics 615',\n",
       " 'AMD Radeon R7 M445',\n",
       " 'Nvidia GeForce 920MX',\n",
       " 'Intel HD Graphics 505',\n",
       " 'AMD Radeon R5',\n",
       " 'Nvidia GeForce GTX 980M',\n",
       " 'Intel HD Graphics 405',\n",
       " 'Nvidia Quadro M1200',\n",
       " 'AMD Radeon R5 M420',\n",
       " 'Intel Iris Plus Graphics 640',\n",
       " 'Nvidia GeForce GTX 950M',\n",
       " 'AMD Radeon R5 M330',\n",
       " 'Nvidia GeForce 920M',\n",
       " 'Nvidia GeForce GTX 1080',\n",
       " 'Nvidia GeForce MX130',\n",
       " 'Nvidia GeForce 930M',\n",
       " 'AMD Radeon R2',\n",
       " 'Nvidia GeForce 920MX ',\n",
       " 'Nvidia GeForce GTX 970M',\n",
       " 'Nvidia GeForce GT 940MX',\n",
       " 'Nvidia Quadro M620',\n",
       " 'Intel HD Graphics 6000',\n",
       " 'AMD Radeon RX 580',\n",
       " 'AMD Radeon R7 M440',\n",
       " 'AMD Radeon R4 Graphics',\n",
       " 'Nvidia GeForce 930MX ',\n",
       " 'Intel HD Graphics 630',\n",
       " 'AMD Radeon R2 Graphics',\n",
       " 'AMD Radeon RX 550',\n",
       " 'Intel HD Graphics 510',\n",
       " 'Nvidia Quadro M1000M',\n",
       " 'Nvidia GeForce GTX 940MX',\n",
       " 'Nvidia GeForce GTX 965M',\n",
       " 'Nvidia Quadro M2200M',\n",
       " 'AMD Radeon R4',\n",
       " 'Nvidia GeForce 150MX',\n",
       " 'Nvidia GeForce GTX 1050M',\n",
       " 'AMD Radeon R5 M420X',\n",
       " 'Nvidia GeForce GTX 960<U+039C>',\n",
       " 'AMD FirePro W4190M ',\n",
       " 'Intel Iris Graphics 540',\n",
       " 'Nvidia Quadro M2000M',\n",
       " 'Nvidia GeForce GTX 1050Ti',\n",
       " 'AMD Radeon RX 540',\n",
       " 'Nvidia Quadro M2200',\n",
       " 'Nvidia Quadro M520M',\n",
       " 'Intel HD Graphics 5300',\n",
       " 'Nvidia GeForce GTX 960',\n",
       " 'Intel Iris Plus Graphics 650',\n",
       " 'AMD Radeon R7 M460',\n",
       " 'Nvidia GeForce GTX1060',\n",
       " 'Nvidia GTX 980 SLI',\n",
       " 'AMD FirePro W6150M',\n",
       " 'AMD Radeon R5 520',\n",
       " 'AMD R4 Graphics',\n",
       " 'AMD Radeon R5 430',\n",
       " 'AMD Radeon 540',\n",
       " 'Nvidia GeForce 940M',\n",
       " 'Nvidia Quadro M500M',\n",
       " 'AMD Radeon R9 M385',\n",
       " 'Nvidia GeForce GTX 1070M',\n",
       " 'AMD Radeon Pro 455',\n",
       " 'Nvidia GeForce GTX 940M',\n",
       " 'AMD Radeon Pro 555',\n",
       " 'AMD FirePro W4190M',\n",
       " 'Intel HD Graphics 620 ',\n",
       " 'AMD Radeon R5 M315',\n",
       " 'Nvidia GeForce GTX1080',\n",
       " 'AMD FirePro W5130M',\n",
       " 'AMD Radeon R7 M365X',\n",
       " 'AMD Radeon Pro 560',\n",
       " 'Nvidia GeForce 960M',\n",
       " 'AMD R17M-M1-70',\n",
       " 'AMD Radeon RX 560',\n",
       " 'AMD Radeon R7 Graphics',\n",
       " 'Intel Iris Graphics 550',\n",
       " 'Nvidia GeForce GTX 980 ',\n",
       " 'Nvidia GeForce GTX 930MX',\n",
       " 'Intel HD Graphics 540',\n",
       " 'AMD Radeon R3',\n",
       " 'Nvidia GeForce GTX1050 Ti',\n",
       " 'Nvidia Quadro M3000M',\n",
       " 'Nvidia Quadro M620M',\n",
       " 'AMD Radeon R7 M465',\n",
       " 'Intel Iris Pro Graphics',\n",
       " 'Nvidia GeForce 920',\n",
       " 'Nvidia Quadro 3000M',\n",
       " 'Intel HD Graphics 530',\n",
       " 'AMD Radeon R7 M360',\n",
       " 'AMD Radeon R7',\n",
       " 'Intel Graphics 620']"
      ]
     },
     "execution_count": 58,
     "metadata": {},
     "output_type": "execute_result"
    }
   ],
   "source": [
    "Gpu_least_catg = Gpu_count[Gpu_count <= 15].index.tolist()\n",
    "Gpu_least_catg"
   ]
  },
  {
   "cell_type": "code",
   "execution_count": 59,
   "id": "5504ec00",
   "metadata": {
    "scrolled": false
   },
   "outputs": [],
   "source": [
    "Intel_least_list = [gpu for gpu in Gpu_least_catg if 'Intel' in gpu]\n",
    "Nvidia_least_list = [gpu for gpu in Gpu_least_catg if 'Nvidia' in gpu]\n",
    "AMD_least_list = [gpu for gpu in Gpu_least_catg if 'AMD' in gpu]"
   ]
  },
  {
   "cell_type": "code",
   "execution_count": 60,
   "id": "17fcae57",
   "metadata": {
    "scrolled": false
   },
   "outputs": [
    {
     "data": {
      "text/plain": [
       "['Intel HD Graphics 515',\n",
       " 'Intel HD Graphics 615',\n",
       " 'Intel HD Graphics 505',\n",
       " 'Intel HD Graphics 405',\n",
       " 'Intel Iris Plus Graphics 640',\n",
       " 'Intel HD Graphics 6000',\n",
       " 'Intel HD Graphics 630',\n",
       " 'Intel HD Graphics 510',\n",
       " 'Intel Iris Graphics 540',\n",
       " 'Intel HD Graphics 5300',\n",
       " 'Intel Iris Plus Graphics 650',\n",
       " 'Intel HD Graphics 620 ',\n",
       " 'Intel Iris Graphics 550',\n",
       " 'Intel HD Graphics 540',\n",
       " 'Intel Iris Pro Graphics',\n",
       " 'Intel HD Graphics 530',\n",
       " 'Intel Graphics 620']"
      ]
     },
     "execution_count": 60,
     "metadata": {},
     "output_type": "execute_result"
    }
   ],
   "source": [
    "Intel_least_list"
   ]
  },
  {
   "cell_type": "code",
   "execution_count": 61,
   "id": "279cb743",
   "metadata": {},
   "outputs": [
    {
     "data": {
      "text/plain": [
       "['Nvidia GeForce MX150',\n",
       " 'Nvidia GeForce GTX 960M',\n",
       " 'Nvidia GeForce 920MX',\n",
       " 'Nvidia GeForce GTX 980M',\n",
       " 'Nvidia Quadro M1200',\n",
       " 'Nvidia GeForce GTX 950M',\n",
       " 'Nvidia GeForce 920M',\n",
       " 'Nvidia GeForce GTX 1080',\n",
       " 'Nvidia GeForce MX130',\n",
       " 'Nvidia GeForce 930M',\n",
       " 'Nvidia GeForce 920MX ',\n",
       " 'Nvidia GeForce GTX 970M',\n",
       " 'Nvidia GeForce GT 940MX',\n",
       " 'Nvidia Quadro M620',\n",
       " 'Nvidia GeForce 930MX ',\n",
       " 'Nvidia Quadro M1000M',\n",
       " 'Nvidia GeForce GTX 940MX',\n",
       " 'Nvidia GeForce GTX 965M',\n",
       " 'Nvidia Quadro M2200M',\n",
       " 'Nvidia GeForce 150MX',\n",
       " 'Nvidia GeForce GTX 1050M',\n",
       " 'Nvidia GeForce GTX 960<U+039C>',\n",
       " 'Nvidia Quadro M2000M',\n",
       " 'Nvidia GeForce GTX 1050Ti',\n",
       " 'Nvidia Quadro M2200',\n",
       " 'Nvidia Quadro M520M',\n",
       " 'Nvidia GeForce GTX 960',\n",
       " 'Nvidia GeForce GTX1060',\n",
       " 'Nvidia GTX 980 SLI',\n",
       " 'Nvidia GeForce 940M',\n",
       " 'Nvidia Quadro M500M',\n",
       " 'Nvidia GeForce GTX 1070M',\n",
       " 'Nvidia GeForce GTX 940M',\n",
       " 'Nvidia GeForce GTX1080',\n",
       " 'Nvidia GeForce 960M',\n",
       " 'Nvidia GeForce GTX 980 ',\n",
       " 'Nvidia GeForce GTX 930MX',\n",
       " 'Nvidia GeForce GTX1050 Ti',\n",
       " 'Nvidia Quadro M3000M',\n",
       " 'Nvidia Quadro M620M',\n",
       " 'Nvidia GeForce 920',\n",
       " 'Nvidia Quadro 3000M']"
      ]
     },
     "execution_count": 61,
     "metadata": {},
     "output_type": "execute_result"
    }
   ],
   "source": [
    "Nvidia_least_list"
   ]
  },
  {
   "cell_type": "code",
   "execution_count": 62,
   "id": "b16bd4a0",
   "metadata": {},
   "outputs": [
    {
     "data": {
      "text/plain": [
       "['AMD Radeon R7 M445',\n",
       " 'AMD Radeon R5',\n",
       " 'AMD Radeon R5 M420',\n",
       " 'AMD Radeon R5 M330',\n",
       " 'AMD Radeon R2',\n",
       " 'AMD Radeon RX 580',\n",
       " 'AMD Radeon R7 M440',\n",
       " 'AMD Radeon R4 Graphics',\n",
       " 'AMD Radeon R2 Graphics',\n",
       " 'AMD Radeon RX 550',\n",
       " 'AMD Radeon R4',\n",
       " 'AMD Radeon R5 M420X',\n",
       " 'AMD FirePro W4190M ',\n",
       " 'AMD Radeon RX 540',\n",
       " 'AMD Radeon R7 M460',\n",
       " 'AMD FirePro W6150M',\n",
       " 'AMD Radeon R5 520',\n",
       " 'AMD R4 Graphics',\n",
       " 'AMD Radeon R5 430',\n",
       " 'AMD Radeon 540',\n",
       " 'AMD Radeon R9 M385',\n",
       " 'AMD Radeon Pro 455',\n",
       " 'AMD Radeon Pro 555',\n",
       " 'AMD FirePro W4190M',\n",
       " 'AMD Radeon R5 M315',\n",
       " 'AMD FirePro W5130M',\n",
       " 'AMD Radeon R7 M365X',\n",
       " 'AMD Radeon Pro 560',\n",
       " 'AMD R17M-M1-70',\n",
       " 'AMD Radeon RX 560',\n",
       " 'AMD Radeon R7 Graphics',\n",
       " 'AMD Radeon R3',\n",
       " 'AMD Radeon R7 M465',\n",
       " 'AMD Radeon R7 M360',\n",
       " 'AMD Radeon R7']"
      ]
     },
     "execution_count": 62,
     "metadata": {},
     "output_type": "execute_result"
    }
   ],
   "source": [
    "AMD_least_list"
   ]
  },
  {
   "cell_type": "code",
   "execution_count": 63,
   "id": "8d6ec358",
   "metadata": {},
   "outputs": [],
   "source": [
    "Laptop_data['Gpu'] = Laptop_data['Gpu'].replace(Intel_least_list, 'Intel Other GPU')\n",
    "Laptop_data['Gpu'] = Laptop_data['Gpu'].replace(Nvidia_least_list, 'Nvidia Other GPU')\n",
    "Laptop_data['Gpu'] = Laptop_data['Gpu'].replace(AMD_least_list, 'AMD Other GPU')"
   ]
  },
  {
   "cell_type": "code",
   "execution_count": 64,
   "id": "4e0f1aa2",
   "metadata": {},
   "outputs": [
    {
     "data": {
      "text/plain": [
       "Intel HD Graphics 620         281\n",
       "Intel HD Graphics 520         185\n",
       "Nvidia Other GPU              165\n",
       "AMD Other GPU                 100\n",
       "Intel Other GPU                83\n",
       "Intel UHD Graphics 620         68\n",
       "Nvidia GeForce GTX 1050        66\n",
       "Nvidia GeForce GTX 1060        48\n",
       "Nvidia GeForce 940MX           43\n",
       "AMD Radeon 530                 41\n",
       "Intel HD Graphics 500          39\n",
       "Intel HD Graphics 400          37\n",
       "Nvidia GeForce GTX 1070        30\n",
       "Intel HD Graphics              29\n",
       "Nvidia GeForce GTX 1050 Ti     28\n",
       "AMD Radeon R5 M430             22\n",
       "Nvidia GeForce 930MX           20\n",
       "AMD Radeon 520                 17\n",
       "Name: Gpu, dtype: int64"
      ]
     },
     "execution_count": 64,
     "metadata": {},
     "output_type": "execute_result"
    }
   ],
   "source": [
    "Gpu_new_count = Laptop_data['Gpu'].value_counts()\n",
    "Gpu_new_count"
   ]
  },
  {
   "cell_type": "code",
   "execution_count": 65,
   "id": "9c245c70",
   "metadata": {},
   "outputs": [
    {
     "data": {
      "text/plain": [
       "['Intel HD Graphics 620',\n",
       " 'Intel HD Graphics 520',\n",
       " 'Nvidia Other GPU',\n",
       " 'AMD Other GPU',\n",
       " 'Intel Other GPU',\n",
       " 'Intel UHD Graphics 620',\n",
       " 'Nvidia GeForce GTX 1050',\n",
       " 'Nvidia GeForce GTX 1060',\n",
       " 'Nvidia GeForce 940MX',\n",
       " 'AMD Radeon 530',\n",
       " 'Intel HD Graphics 500',\n",
       " 'Intel HD Graphics 400',\n",
       " 'Nvidia GeForce GTX 1070',\n",
       " 'Intel HD Graphics',\n",
       " 'Nvidia GeForce GTX 1050 Ti',\n",
       " 'AMD Radeon R5 M430',\n",
       " 'Nvidia GeForce 930MX',\n",
       " 'AMD Radeon 520']"
      ]
     },
     "execution_count": 65,
     "metadata": {},
     "output_type": "execute_result"
    }
   ],
   "source": [
    "Gpu_new_catg = Gpu_new_count.index.tolist()\n",
    "Gpu_new_catg"
   ]
  },
  {
   "cell_type": "code",
   "execution_count": 66,
   "id": "7cfb5cf9",
   "metadata": {},
   "outputs": [],
   "source": [
    "Intel_list = [gpu for gpu in Gpu_new_catg if 'Intel' in gpu]\n",
    "Nvidia_list = [gpu for gpu in Gpu_new_catg if 'Nvidia' in gpu]\n",
    "AMD_list = [gpu for gpu in Gpu_new_catg if 'AMD' in gpu]"
   ]
  },
  {
   "cell_type": "code",
   "execution_count": 67,
   "id": "22f3f815",
   "metadata": {},
   "outputs": [
    {
     "data": {
      "text/plain": [
       "['Intel HD Graphics 620',\n",
       " 'Intel HD Graphics 520',\n",
       " 'Intel Other GPU',\n",
       " 'Intel UHD Graphics 620',\n",
       " 'Intel HD Graphics 500',\n",
       " 'Intel HD Graphics 400',\n",
       " 'Intel HD Graphics']"
      ]
     },
     "execution_count": 67,
     "metadata": {},
     "output_type": "execute_result"
    }
   ],
   "source": [
    "Intel_list"
   ]
  },
  {
   "cell_type": "code",
   "execution_count": 68,
   "id": "ab2f8523",
   "metadata": {},
   "outputs": [
    {
     "data": {
      "text/plain": [
       "['Nvidia Other GPU',\n",
       " 'Nvidia GeForce GTX 1050',\n",
       " 'Nvidia GeForce GTX 1060',\n",
       " 'Nvidia GeForce 940MX',\n",
       " 'Nvidia GeForce GTX 1070',\n",
       " 'Nvidia GeForce GTX 1050 Ti',\n",
       " 'Nvidia GeForce 930MX']"
      ]
     },
     "execution_count": 68,
     "metadata": {},
     "output_type": "execute_result"
    }
   ],
   "source": [
    "Nvidia_list"
   ]
  },
  {
   "cell_type": "code",
   "execution_count": 69,
   "id": "552c2746",
   "metadata": {},
   "outputs": [
    {
     "data": {
      "text/plain": [
       "['AMD Other GPU', 'AMD Radeon 530', 'AMD Radeon R5 M430', 'AMD Radeon 520']"
      ]
     },
     "execution_count": 69,
     "metadata": {},
     "output_type": "execute_result"
    }
   ],
   "source": [
    "AMD_list"
   ]
  },
  {
   "cell_type": "markdown",
   "id": "1c03092a",
   "metadata": {},
   "source": [
    "### OpSys"
   ]
  },
  {
   "cell_type": "code",
   "execution_count": 70,
   "id": "3e431933",
   "metadata": {},
   "outputs": [
    {
     "data": {
      "text/plain": [
       "Windows 10      1072\n",
       "No OS             66\n",
       "Linux             62\n",
       "Windows 7         45\n",
       "Chrome OS         26\n",
       "macOS             13\n",
       "Mac OS X           8\n",
       "Windows 10 S       8\n",
       "Android            2\n",
       "Name: OpSys, dtype: int64"
      ]
     },
     "execution_count": 70,
     "metadata": {},
     "output_type": "execute_result"
    }
   ],
   "source": [
    "Laptop_data['OpSys'].value_counts()"
   ]
  },
  {
   "cell_type": "code",
   "execution_count": 71,
   "id": "1ce29f87",
   "metadata": {},
   "outputs": [
    {
     "data": {
      "text/html": [
       "<div>\n",
       "<style scoped>\n",
       "    .dataframe tbody tr th:only-of-type {\n",
       "        vertical-align: middle;\n",
       "    }\n",
       "\n",
       "    .dataframe tbody tr th {\n",
       "        vertical-align: top;\n",
       "    }\n",
       "\n",
       "    .dataframe thead th {\n",
       "        text-align: right;\n",
       "    }\n",
       "</style>\n",
       "<table border=\"1\" class=\"dataframe\">\n",
       "  <thead>\n",
       "    <tr style=\"text-align: right;\">\n",
       "      <th></th>\n",
       "      <th>Company</th>\n",
       "      <th>TypeName</th>\n",
       "      <th>Inches</th>\n",
       "      <th>Cpu</th>\n",
       "      <th>Ram</th>\n",
       "      <th>Gpu</th>\n",
       "      <th>OpSys</th>\n",
       "      <th>Weight</th>\n",
       "      <th>Price</th>\n",
       "      <th>IPS</th>\n",
       "      <th>Touchscreen</th>\n",
       "      <th>FHD</th>\n",
       "      <th>QHD</th>\n",
       "      <th>4KUHD</th>\n",
       "      <th>Retina Display</th>\n",
       "      <th>Resolution</th>\n",
       "      <th>SSD</th>\n",
       "      <th>HDD</th>\n",
       "      <th>Hybrid</th>\n",
       "      <th>Flash</th>\n",
       "    </tr>\n",
       "  </thead>\n",
       "  <tbody>\n",
       "    <tr>\n",
       "      <th>759</th>\n",
       "      <td>Acer</td>\n",
       "      <td>Notebook</td>\n",
       "      <td>15.6</td>\n",
       "      <td>Intel I5 Basic</td>\n",
       "      <td>4</td>\n",
       "      <td>Intel HD Graphics 620</td>\n",
       "      <td>Windows 10</td>\n",
       "      <td>2.10</td>\n",
       "      <td>31914.720</td>\n",
       "      <td>0</td>\n",
       "      <td>0</td>\n",
       "      <td>0</td>\n",
       "      <td>0</td>\n",
       "      <td>0</td>\n",
       "      <td>0</td>\n",
       "      <td>1366x768</td>\n",
       "      <td>256.0</td>\n",
       "      <td>0.0</td>\n",
       "      <td>0.0</td>\n",
       "      <td>0.0</td>\n",
       "    </tr>\n",
       "    <tr>\n",
       "      <th>938</th>\n",
       "      <td>Dell</td>\n",
       "      <td>Ultrabook</td>\n",
       "      <td>14.0</td>\n",
       "      <td>Intel I5 Basic</td>\n",
       "      <td>8</td>\n",
       "      <td>Intel HD Graphics 620</td>\n",
       "      <td>Windows 10</td>\n",
       "      <td>1.36</td>\n",
       "      <td>87325.920</td>\n",
       "      <td>0</td>\n",
       "      <td>0</td>\n",
       "      <td>1</td>\n",
       "      <td>0</td>\n",
       "      <td>0</td>\n",
       "      <td>0</td>\n",
       "      <td>1920x1080</td>\n",
       "      <td>256.0</td>\n",
       "      <td>0.0</td>\n",
       "      <td>0.0</td>\n",
       "      <td>0.0</td>\n",
       "    </tr>\n",
       "    <tr>\n",
       "      <th>192</th>\n",
       "      <td>Other</td>\n",
       "      <td>Ultrabook</td>\n",
       "      <td>13.3</td>\n",
       "      <td>Intel I5 Basic</td>\n",
       "      <td>8</td>\n",
       "      <td>Nvidia Other GPU</td>\n",
       "      <td>No OS</td>\n",
       "      <td>1.30</td>\n",
       "      <td>53274.672</td>\n",
       "      <td>1</td>\n",
       "      <td>0</td>\n",
       "      <td>1</td>\n",
       "      <td>0</td>\n",
       "      <td>0</td>\n",
       "      <td>0</td>\n",
       "      <td>1920x1080</td>\n",
       "      <td>256.0</td>\n",
       "      <td>0.0</td>\n",
       "      <td>0.0</td>\n",
       "      <td>0.0</td>\n",
       "    </tr>\n",
       "    <tr>\n",
       "      <th>704</th>\n",
       "      <td>Lenovo</td>\n",
       "      <td>Notebook</td>\n",
       "      <td>15.6</td>\n",
       "      <td>Intel I3</td>\n",
       "      <td>4</td>\n",
       "      <td>Intel HD Graphics 520</td>\n",
       "      <td>No OS</td>\n",
       "      <td>1.90</td>\n",
       "      <td>23976.000</td>\n",
       "      <td>0</td>\n",
       "      <td>0</td>\n",
       "      <td>0</td>\n",
       "      <td>0</td>\n",
       "      <td>0</td>\n",
       "      <td>0</td>\n",
       "      <td>1366x768</td>\n",
       "      <td>0.0</td>\n",
       "      <td>500.0</td>\n",
       "      <td>0.0</td>\n",
       "      <td>0.0</td>\n",
       "    </tr>\n",
       "    <tr>\n",
       "      <th>15</th>\n",
       "      <td>Apple</td>\n",
       "      <td>Ultrabook</td>\n",
       "      <td>13.3</td>\n",
       "      <td>Intel other CPU</td>\n",
       "      <td>8</td>\n",
       "      <td>Intel Other GPU</td>\n",
       "      <td>macOS</td>\n",
       "      <td>1.37</td>\n",
       "      <td>80908.344</td>\n",
       "      <td>1</td>\n",
       "      <td>0</td>\n",
       "      <td>0</td>\n",
       "      <td>0</td>\n",
       "      <td>0</td>\n",
       "      <td>1</td>\n",
       "      <td>2560x1600</td>\n",
       "      <td>256.0</td>\n",
       "      <td>0.0</td>\n",
       "      <td>0.0</td>\n",
       "      <td>0.0</td>\n",
       "    </tr>\n",
       "  </tbody>\n",
       "</table>\n",
       "</div>"
      ],
      "text/plain": [
       "    Company   TypeName  Inches              Cpu  Ram                    Gpu  \\\n",
       "759    Acer   Notebook    15.6   Intel I5 Basic    4  Intel HD Graphics 620   \n",
       "938    Dell  Ultrabook    14.0   Intel I5 Basic    8  Intel HD Graphics 620   \n",
       "192   Other  Ultrabook    13.3   Intel I5 Basic    8       Nvidia Other GPU   \n",
       "704  Lenovo   Notebook    15.6         Intel I3    4  Intel HD Graphics 520   \n",
       "15    Apple  Ultrabook    13.3  Intel other CPU    8        Intel Other GPU   \n",
       "\n",
       "          OpSys  Weight      Price  IPS  Touchscreen  FHD  QHD  4KUHD  \\\n",
       "759  Windows 10    2.10  31914.720    0            0    0    0      0   \n",
       "938  Windows 10    1.36  87325.920    0            0    1    0      0   \n",
       "192       No OS    1.30  53274.672    1            0    1    0      0   \n",
       "704       No OS    1.90  23976.000    0            0    0    0      0   \n",
       "15        macOS    1.37  80908.344    1            0    0    0      0   \n",
       "\n",
       "     Retina Display Resolution    SSD    HDD  Hybrid  Flash  \n",
       "759               0   1366x768  256.0    0.0     0.0    0.0  \n",
       "938               0  1920x1080  256.0    0.0     0.0    0.0  \n",
       "192               0  1920x1080  256.0    0.0     0.0    0.0  \n",
       "704               0   1366x768    0.0  500.0     0.0    0.0  \n",
       "15                1  2560x1600  256.0    0.0     0.0    0.0  "
      ]
     },
     "execution_count": 71,
     "metadata": {},
     "output_type": "execute_result"
    }
   ],
   "source": [
    "Laptop_data.sample(5)"
   ]
  },
  {
   "cell_type": "code",
   "execution_count": 72,
   "id": "cbb1cba0",
   "metadata": {
    "scrolled": false
   },
   "outputs": [
    {
     "name": "stdout",
     "output_type": "stream",
     "text": [
      "<class 'pandas.core.frame.DataFrame'>\n",
      "Int64Index: 1302 entries, 0 to 1302\n",
      "Data columns (total 20 columns):\n",
      " #   Column          Non-Null Count  Dtype  \n",
      "---  ------          --------------  -----  \n",
      " 0   Company         1302 non-null   object \n",
      " 1   TypeName        1302 non-null   object \n",
      " 2   Inches          1302 non-null   float64\n",
      " 3   Cpu             1302 non-null   object \n",
      " 4   Ram             1302 non-null   int32  \n",
      " 5   Gpu             1302 non-null   object \n",
      " 6   OpSys           1302 non-null   object \n",
      " 7   Weight          1302 non-null   float32\n",
      " 8   Price           1302 non-null   float64\n",
      " 9   IPS             1302 non-null   int64  \n",
      " 10  Touchscreen     1302 non-null   int64  \n",
      " 11  FHD             1302 non-null   int64  \n",
      " 12  QHD             1302 non-null   int64  \n",
      " 13  4KUHD           1302 non-null   int64  \n",
      " 14  Retina Display  1302 non-null   int64  \n",
      " 15  Resolution      1302 non-null   object \n",
      " 16  SSD             1302 non-null   float64\n",
      " 17  HDD             1302 non-null   float64\n",
      " 18  Hybrid          1302 non-null   float64\n",
      " 19  Flash           1302 non-null   float64\n",
      "dtypes: float32(1), float64(6), int32(1), int64(6), object(6)\n",
      "memory usage: 203.4+ KB\n"
     ]
    }
   ],
   "source": [
    "Laptop_data.info()"
   ]
  },
  {
   "cell_type": "code",
   "execution_count": 73,
   "id": "092f855a",
   "metadata": {},
   "outputs": [
    {
     "data": {
      "text/plain": [
       "Inches            0.067329\n",
       "Ram               0.742905\n",
       "Weight            0.209867\n",
       "Price             1.000000\n",
       "IPS               0.253320\n",
       "Touchscreen       0.192917\n",
       "FHD               0.198093\n",
       "QHD               0.106584\n",
       "4KUHD             0.343951\n",
       "Retina Display    0.087852\n",
       "SSD               0.675849\n",
       "HDD              -0.094530\n",
       "Hybrid            0.007963\n",
       "Flash            -0.040067\n",
       "Name: Price, dtype: float64"
      ]
     },
     "execution_count": 73,
     "metadata": {},
     "output_type": "execute_result"
    }
   ],
   "source": [
    "Laptop_data.corr()['Price']"
   ]
  },
  {
   "cell_type": "markdown",
   "id": "648b2ec1",
   "metadata": {},
   "source": [
    "## Training"
   ]
  },
  {
   "cell_type": "markdown",
   "id": "ef3094b2",
   "metadata": {},
   "source": [
    "### Train test split"
   ]
  },
  {
   "cell_type": "code",
   "execution_count": 74,
   "id": "73a27d17",
   "metadata": {},
   "outputs": [
    {
     "data": {
      "text/plain": [
       "((1041, 18), (261, 18))"
      ]
     },
     "execution_count": 74,
     "metadata": {},
     "output_type": "execute_result"
    }
   ],
   "source": [
    "from sklearn.model_selection import train_test_split\n",
    "\n",
    "# We will drop 'Hybrid' because it has very low corrolation with 'Price'\n",
    "X = Laptop_data.drop(columns=['Price','Hybrid'], axis=1)\n",
    "Y = Laptop_data['Price']\n",
    "\n",
    "x_train, x_test, y_train, y_test = train_test_split(X, Y, test_size=0.2, random_state=9)\n",
    "\n",
    "x_train.shape, x_test.shape"
   ]
  },
  {
   "cell_type": "code",
   "execution_count": 75,
   "id": "e965e098",
   "metadata": {},
   "outputs": [
    {
     "data": {
      "text/html": [
       "<div>\n",
       "<style scoped>\n",
       "    .dataframe tbody tr th:only-of-type {\n",
       "        vertical-align: middle;\n",
       "    }\n",
       "\n",
       "    .dataframe tbody tr th {\n",
       "        vertical-align: top;\n",
       "    }\n",
       "\n",
       "    .dataframe thead th {\n",
       "        text-align: right;\n",
       "    }\n",
       "</style>\n",
       "<table border=\"1\" class=\"dataframe\">\n",
       "  <thead>\n",
       "    <tr style=\"text-align: right;\">\n",
       "      <th></th>\n",
       "      <th>Company</th>\n",
       "      <th>TypeName</th>\n",
       "      <th>Inches</th>\n",
       "      <th>Cpu</th>\n",
       "      <th>Ram</th>\n",
       "      <th>Gpu</th>\n",
       "      <th>OpSys</th>\n",
       "      <th>Weight</th>\n",
       "      <th>IPS</th>\n",
       "      <th>Touchscreen</th>\n",
       "      <th>FHD</th>\n",
       "      <th>QHD</th>\n",
       "      <th>4KUHD</th>\n",
       "      <th>Retina Display</th>\n",
       "      <th>Resolution</th>\n",
       "      <th>SSD</th>\n",
       "      <th>HDD</th>\n",
       "      <th>Flash</th>\n",
       "    </tr>\n",
       "  </thead>\n",
       "  <tbody>\n",
       "    <tr>\n",
       "      <th>1108</th>\n",
       "      <td>HP</td>\n",
       "      <td>Notebook</td>\n",
       "      <td>15.6</td>\n",
       "      <td>AMD</td>\n",
       "      <td>4</td>\n",
       "      <td>AMD Other GPU</td>\n",
       "      <td>Windows 10</td>\n",
       "      <td>2.1</td>\n",
       "      <td>0</td>\n",
       "      <td>0</td>\n",
       "      <td>1</td>\n",
       "      <td>0</td>\n",
       "      <td>0</td>\n",
       "      <td>0</td>\n",
       "      <td>1920x1080</td>\n",
       "      <td>0.0</td>\n",
       "      <td>1024.0</td>\n",
       "      <td>0.0</td>\n",
       "    </tr>\n",
       "  </tbody>\n",
       "</table>\n",
       "</div>"
      ],
      "text/plain": [
       "     Company  TypeName  Inches  Cpu  Ram            Gpu       OpSys  Weight  \\\n",
       "1108      HP  Notebook    15.6  AMD    4  AMD Other GPU  Windows 10     2.1   \n",
       "\n",
       "      IPS  Touchscreen  FHD  QHD  4KUHD  Retina Display Resolution  SSD  \\\n",
       "1108    0            0    1    0      0               0  1920x1080  0.0   \n",
       "\n",
       "         HDD  Flash  \n",
       "1108  1024.0    0.0  "
      ]
     },
     "execution_count": 75,
     "metadata": {},
     "output_type": "execute_result"
    }
   ],
   "source": [
    "x_train.head(1)"
   ]
  },
  {
   "cell_type": "code",
   "execution_count": 76,
   "id": "aa628cd4",
   "metadata": {},
   "outputs": [
    {
     "data": {
      "text/plain": [
       "Index(['Company', 'TypeName', 'Inches', 'Cpu', 'Ram', 'Gpu', 'OpSys', 'Weight',\n",
       "       'IPS', 'Touchscreen', 'FHD', 'QHD', '4KUHD', 'Retina Display',\n",
       "       'Resolution', 'SSD', 'HDD', 'Flash'],\n",
       "      dtype='object')"
      ]
     },
     "execution_count": 76,
     "metadata": {},
     "output_type": "execute_result"
    }
   ],
   "source": [
    "x_train.columns"
   ]
  },
  {
   "cell_type": "markdown",
   "id": "7e2a978e",
   "metadata": {},
   "source": [
    "### Final sequence of our columns, in this sequence only we have to take inputs from user\n",
    "'Company' | 'TypeName' | 'Inches' | 'Cpu' | 'Ram' | 'Gpu' | 'OpSys' | 'Weight' | 'IPS' | 'Touchscreen' | 'FHD' | 'QHD' | '4KUHD' | 'Retina Display' | 'Resolution' | 'SSD' | 'HDD' | 'Flash'"
   ]
  },
  {
   "cell_type": "code",
   "execution_count": 77,
   "id": "806b51b7",
   "metadata": {},
   "outputs": [],
   "source": [
    "from sklearn.compose import ColumnTransformer\n",
    "from sklearn.preprocessing import OneHotEncoder\n",
    "from sklearn.preprocessing import StandardScaler\n",
    "from sklearn.linear_model import LinearRegression\n",
    "from sklearn.metrics import r2_score, mean_absolute_error"
   ]
  },
  {
   "cell_type": "markdown",
   "id": "08125c1f",
   "metadata": {},
   "source": [
    "### Column Transformation"
   ]
  },
  {
   "cell_type": "code",
   "execution_count": 78,
   "id": "37ef66b1",
   "metadata": {},
   "outputs": [
    {
     "name": "stdout",
     "output_type": "stream",
     "text": [
      "Company  :  9\n",
      "TypeName  :  6\n",
      "Cpu  :  7\n",
      "Gpu  :  18\n",
      "OpSys  :  9\n",
      "Resolution  :  15\n"
     ]
    }
   ],
   "source": [
    "featsIdx_to_OHE = [0, 1, 3, 5, 6, 14]\n",
    "\n",
    "for idx in featsIdx_to_OHE:\n",
    "    print(x_train.columns[idx],' : ', len(x_train.iloc[:,idx].value_counts().index))"
   ]
  },
  {
   "cell_type": "code",
   "execution_count": 79,
   "id": "9cb3da72",
   "metadata": {},
   "outputs": [],
   "source": [
    "# One hot Encoding on 'Company' , 'TypeName' , 'Cpu' , 'Gpu' , 'OpSys' \n",
    "\n",
    "ct1 = ColumnTransformer(transformers=[\n",
    "    ('tf1', OneHotEncoder(sparse= False, drop='first'), featsIdx_to_OHE)\n",
    "],remainder='passthrough')"
   ]
  },
  {
   "cell_type": "code",
   "execution_count": 80,
   "id": "4450be2a",
   "metadata": {},
   "outputs": [],
   "source": [
    "# Scaling on all features\n",
    "\n",
    "ct2 = ColumnTransformer(transformers=[\n",
    "    ('tf1', StandardScaler(),list(range(0, 70)))\n",
    "], remainder='passthrough')"
   ]
  },
  {
   "cell_type": "code",
   "execution_count": 81,
   "id": "f4e864c2",
   "metadata": {},
   "outputs": [],
   "source": [
    "# Model building\n",
    "\n",
    "model_LR = LinearRegression()"
   ]
  },
  {
   "cell_type": "markdown",
   "id": "554aa3dc",
   "metadata": {},
   "source": [
    "## Pipeline creation "
   ]
  },
  {
   "cell_type": "code",
   "execution_count": 82,
   "id": "ffafc6a9",
   "metadata": {},
   "outputs": [],
   "source": [
    "from sklearn.pipeline import Pipeline"
   ]
  },
  {
   "cell_type": "code",
   "execution_count": 83,
   "id": "267c2d7b",
   "metadata": {},
   "outputs": [],
   "source": [
    "pipe = Pipeline([\n",
    "    ('OHE', ct1),\n",
    "    ('Scale', ct2),\n",
    "    ('Training', model_LR)\n",
    "])"
   ]
  },
  {
   "cell_type": "code",
   "execution_count": 84,
   "id": "df220d09",
   "metadata": {
    "scrolled": false
   },
   "outputs": [
    {
     "data": {
      "text/plain": [
       "Pipeline(steps=[('OHE',\n",
       "                 ColumnTransformer(remainder='passthrough',\n",
       "                                   transformers=[('tf1',\n",
       "                                                  OneHotEncoder(drop='first',\n",
       "                                                                sparse=False),\n",
       "                                                  [0, 1, 3, 5, 6, 14])])),\n",
       "                ('Scale',\n",
       "                 ColumnTransformer(remainder='passthrough',\n",
       "                                   transformers=[('tf1', StandardScaler(),\n",
       "                                                  [0, 1, 2, 3, 4, 5, 6, 7, 8, 9,\n",
       "                                                   10, 11, 12, 13, 14, 15, 16,\n",
       "                                                   17, 18, 19, 20, 21, 22, 23,\n",
       "                                                   24, 25, 26, 27, 28, 29, ...])])),\n",
       "                ('Training', LinearRegression())])"
      ]
     },
     "execution_count": 84,
     "metadata": {},
     "output_type": "execute_result"
    }
   ],
   "source": [
    "pipe.fit(x_train, y_train)"
   ]
  },
  {
   "cell_type": "code",
   "execution_count": 85,
   "id": "d6d6ca0a",
   "metadata": {},
   "outputs": [],
   "source": [
    "y_train_pred = pipe.predict(x_train)\n",
    "y_test_pred = pipe.predict(x_test)"
   ]
  },
  {
   "cell_type": "markdown",
   "id": "429d2b7a",
   "metadata": {},
   "source": [
    "### Performance"
   ]
  },
  {
   "cell_type": "code",
   "execution_count": 86,
   "id": "d296d91a",
   "metadata": {},
   "outputs": [
    {
     "name": "stdout",
     "output_type": "stream",
     "text": [
      "Training r2 score:  82.22606706342235\n",
      "Testing r2 score:  77.94649762556394\n",
      "Training MAE:  10704.734625454588\n",
      "Testing MAE:  12668.887575009414\n"
     ]
    }
   ],
   "source": [
    "print('Training r2 score: ', r2_score(y_train.values, y_train_pred) * 100)\n",
    "print('Testing r2 score: ', r2_score(y_test, y_test_pred) * 100)\n",
    "\n",
    "print('Training MAE: ', mean_absolute_error(y_train, y_train_pred))\n",
    "print('Testing MAE: ', mean_absolute_error(y_test, y_test_pred))"
   ]
  },
  {
   "cell_type": "code",
   "execution_count": 87,
   "id": "851000b9",
   "metadata": {
    "scrolled": true
   },
   "outputs": [
    {
     "data": {
      "text/html": [
       "<div>\n",
       "<style scoped>\n",
       "    .dataframe tbody tr th:only-of-type {\n",
       "        vertical-align: middle;\n",
       "    }\n",
       "\n",
       "    .dataframe tbody tr th {\n",
       "        vertical-align: top;\n",
       "    }\n",
       "\n",
       "    .dataframe thead th {\n",
       "        text-align: right;\n",
       "    }\n",
       "</style>\n",
       "<table border=\"1\" class=\"dataframe\">\n",
       "  <thead>\n",
       "    <tr style=\"text-align: right;\">\n",
       "      <th></th>\n",
       "      <th>Actual</th>\n",
       "      <th>Predicted</th>\n",
       "    </tr>\n",
       "  </thead>\n",
       "  <tbody>\n",
       "    <tr>\n",
       "      <th>542</th>\n",
       "      <td>61005.60</td>\n",
       "      <td>83910.866880</td>\n",
       "    </tr>\n",
       "    <tr>\n",
       "      <th>213</th>\n",
       "      <td>29250.72</td>\n",
       "      <td>48436.916278</td>\n",
       "    </tr>\n",
       "    <tr>\n",
       "      <th>648</th>\n",
       "      <td>64628.64</td>\n",
       "      <td>64450.866880</td>\n",
       "    </tr>\n",
       "    <tr>\n",
       "      <th>1150</th>\n",
       "      <td>18061.92</td>\n",
       "      <td>24313.642939</td>\n",
       "    </tr>\n",
       "    <tr>\n",
       "      <th>815</th>\n",
       "      <td>99047.52</td>\n",
       "      <td>71087.866880</td>\n",
       "    </tr>\n",
       "    <tr>\n",
       "      <th>411</th>\n",
       "      <td>103523.04</td>\n",
       "      <td>132221.866880</td>\n",
       "    </tr>\n",
       "    <tr>\n",
       "      <th>935</th>\n",
       "      <td>88924.32</td>\n",
       "      <td>63245.866880</td>\n",
       "    </tr>\n",
       "    <tr>\n",
       "      <th>747</th>\n",
       "      <td>28717.92</td>\n",
       "      <td>49884.866880</td>\n",
       "    </tr>\n",
       "    <tr>\n",
       "      <th>109</th>\n",
       "      <td>78854.40</td>\n",
       "      <td>57702.866880</td>\n",
       "    </tr>\n",
       "    <tr>\n",
       "      <th>370</th>\n",
       "      <td>58554.72</td>\n",
       "      <td>80374.418998</td>\n",
       "    </tr>\n",
       "  </tbody>\n",
       "</table>\n",
       "</div>"
      ],
      "text/plain": [
       "         Actual      Predicted\n",
       "542    61005.60   83910.866880\n",
       "213    29250.72   48436.916278\n",
       "648    64628.64   64450.866880\n",
       "1150   18061.92   24313.642939\n",
       "815    99047.52   71087.866880\n",
       "411   103523.04  132221.866880\n",
       "935    88924.32   63245.866880\n",
       "747    28717.92   49884.866880\n",
       "109    78854.40   57702.866880\n",
       "370    58554.72   80374.418998"
      ]
     },
     "execution_count": 87,
     "metadata": {},
     "output_type": "execute_result"
    }
   ],
   "source": [
    "pd.DataFrame({'Actual':y_test, 'Predicted':y_test_pred}).sample(10)"
   ]
  },
  {
   "cell_type": "markdown",
   "id": "ecd8f36b",
   "metadata": {},
   "source": [
    "### Random forest "
   ]
  },
  {
   "cell_type": "code",
   "execution_count": 88,
   "id": "b9bb37a5",
   "metadata": {
    "scrolled": true
   },
   "outputs": [],
   "source": [
    "from sklearn.ensemble import RandomForestRegressor\n",
    "\n",
    "model_RF = RandomForestRegressor(n_estimators=100,\n",
    "                              random_state=5,\n",
    "                              max_samples=0.5,\n",
    "                              max_features=0.75,\n",
    "                              max_depth=15)"
   ]
  },
  {
   "cell_type": "code",
   "execution_count": 89,
   "id": "56251272",
   "metadata": {},
   "outputs": [],
   "source": [
    "pipe2 = Pipeline([\n",
    "    ('OHE', ct1),\n",
    "    ('Scale', ct2),\n",
    "    ('Training', model_RF)\n",
    "])"
   ]
  },
  {
   "cell_type": "code",
   "execution_count": 90,
   "id": "c52b4728",
   "metadata": {},
   "outputs": [
    {
     "data": {
      "text/plain": [
       "Pipeline(steps=[('OHE',\n",
       "                 ColumnTransformer(remainder='passthrough',\n",
       "                                   transformers=[('tf1',\n",
       "                                                  OneHotEncoder(drop='first',\n",
       "                                                                sparse=False),\n",
       "                                                  [0, 1, 3, 5, 6, 14])])),\n",
       "                ('Scale',\n",
       "                 ColumnTransformer(remainder='passthrough',\n",
       "                                   transformers=[('tf1', StandardScaler(),\n",
       "                                                  [0, 1, 2, 3, 4, 5, 6, 7, 8, 9,\n",
       "                                                   10, 11, 12, 13, 14, 15, 16,\n",
       "                                                   17, 18, 19, 20, 21, 22, 23,\n",
       "                                                   24, 25, 26, 27, 28, 29, ...])])),\n",
       "                ('Training',\n",
       "                 RandomForestRegressor(max_depth=15, max_features=0.75,\n",
       "                                       max_samples=0.5, random_state=5))])"
      ]
     },
     "execution_count": 90,
     "metadata": {},
     "output_type": "execute_result"
    }
   ],
   "source": [
    "pipe2.fit(x_train, y_train)"
   ]
  },
  {
   "cell_type": "code",
   "execution_count": 91,
   "id": "bf19163c",
   "metadata": {},
   "outputs": [],
   "source": [
    "y_train_pred = pipe2.predict(x_train)\n",
    "y_test_pred = pipe2.predict(x_test)"
   ]
  },
  {
   "cell_type": "code",
   "execution_count": 92,
   "id": "c7ff9d9a",
   "metadata": {},
   "outputs": [
    {
     "name": "stdout",
     "output_type": "stream",
     "text": [
      "Training r2 score:  94.07329214620385\n",
      "Testing r2 score:  79.08369432760057\n"
     ]
    }
   ],
   "source": [
    "print('Training r2 score: ', r2_score(y_train.values, y_train_pred) * 100)\n",
    "print('Testing r2 score: ', r2_score(y_test, y_test_pred) * 100)"
   ]
  },
  {
   "cell_type": "markdown",
   "id": "d0c8eb84",
   "metadata": {},
   "source": [
    "## Exporting model and data set"
   ]
  },
  {
   "cell_type": "code",
   "execution_count": 104,
   "id": "089a248c",
   "metadata": {},
   "outputs": [],
   "source": [
    "pickle.dump(x_train, open('Train_data.pkl','wb'))\n",
    "pickle.dump(pipe2, open('pipeline.pkl','wb'))"
   ]
  },
  {
   "cell_type": "markdown",
   "id": "afe4bc7d",
   "metadata": {},
   "source": [
    "### Development testing"
   ]
  },
  {
   "cell_type": "code",
   "execution_count": 94,
   "id": "431baf78",
   "metadata": {},
   "outputs": [],
   "source": [
    "data_dev = pickle.load(open('Train_data.pkl','rb'))\n",
    "pipeline = pickle.load(open('pipeline.pkl','rb'))"
   ]
  },
  {
   "cell_type": "code",
   "execution_count": 126,
   "id": "e562e5da",
   "metadata": {},
   "outputs": [
    {
     "data": {
      "text/plain": [
       "Company                               HP\n",
       "TypeName                        Notebook\n",
       "Inches                              15.6\n",
       "Cpu                       Intel I5 Basic\n",
       "Ram                                    8\n",
       "Gpu               Intel UHD Graphics 620\n",
       "OpSys                         Windows 10\n",
       "Weight                               2.1\n",
       "IPS                                    0\n",
       "Touchscreen                            0\n",
       "FHD                                    1\n",
       "QHD                                    0\n",
       "4KUHD                                  0\n",
       "Retina Display                         0\n",
       "Resolution                     1920x1080\n",
       "SSD                                  0.0\n",
       "HDD                               1024.0\n",
       "Flash                                0.0\n",
       "Name: 223, dtype: object"
      ]
     },
     "execution_count": 126,
     "metadata": {},
     "output_type": "execute_result"
    }
   ],
   "source": [
    "x_test.iloc[1]"
   ]
  },
  {
   "cell_type": "code",
   "execution_count": 127,
   "id": "516e52f7",
   "metadata": {},
   "outputs": [
    {
     "data": {
      "text/plain": [
       "42304.32"
      ]
     },
     "execution_count": 127,
     "metadata": {},
     "output_type": "execute_result"
    }
   ],
   "source": [
    "y_test.iloc[1]"
   ]
  },
  {
   "cell_type": "code",
   "execution_count": 124,
   "id": "ac8431b9",
   "metadata": {},
   "outputs": [
    {
     "data": {
      "text/plain": [
       "array([['HP', 'Notebook', '17.3', 'AMD', '6', 'AMD Radeon 530',\n",
       "        'Windows 10', '2.71', '1', '0', '1', '0', '0', '0', '1920x1080',\n",
       "        '0.0', '2048.0', '0.0']], dtype='<U14')"
      ]
     },
     "execution_count": 124,
     "metadata": {},
     "output_type": "execute_result"
    }
   ],
   "source": [
    "user_input = np.array(['HP', 'Notebook', 17.3, 'AMD', 6, 'AMD Radeon 530', 'Windows 10', \n",
    "                       2.71, 1, 0, 1, 0, 0, 0, '1920x1080', 0.0, 2048.0, 0.0])\n",
    "\n",
    "user_input = user_input.reshape(1,18)\n",
    "user_input"
   ]
  },
  {
   "cell_type": "code",
   "execution_count": 125,
   "id": "e4143646",
   "metadata": {
    "scrolled": false
   },
   "outputs": [
    {
     "name": "stdout",
     "output_type": "stream",
     "text": [
      "Price of the Laptop:  30725.369895142863\n"
     ]
    }
   ],
   "source": [
    "print('Price of the Laptop: ', pipeline.predict(user_input)[0])"
   ]
  },
  {
   "cell_type": "code",
   "execution_count": null,
   "id": "bd18f82f",
   "metadata": {},
   "outputs": [],
   "source": []
  }
 ],
 "metadata": {
  "kernelspec": {
   "display_name": "Python 3",
   "language": "python",
   "name": "python3"
  },
  "language_info": {
   "codemirror_mode": {
    "name": "ipython",
    "version": 3
   },
   "file_extension": ".py",
   "mimetype": "text/x-python",
   "name": "python",
   "nbconvert_exporter": "python",
   "pygments_lexer": "ipython3",
   "version": "3.8.10"
  }
 },
 "nbformat": 4,
 "nbformat_minor": 5
}
